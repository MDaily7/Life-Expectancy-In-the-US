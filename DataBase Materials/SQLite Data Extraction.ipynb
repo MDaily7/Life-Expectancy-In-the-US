{
 "cells": [
  {
   "cell_type": "code",
   "execution_count": 3,
   "id": "b38365e2",
   "metadata": {},
   "outputs": [],
   "source": [
    "# Import Dependencies\n",
    "import pandas as pd\n",
    "import sqlalchemy\n",
    "from sqlalchemy.ext.automap import automap_base\n",
    "from sqlalchemy.orm import Session\n",
    "from sqlalchemy import create_engine, func, inspect\n"
   ]
  },
  {
   "cell_type": "code",
   "execution_count": 5,
   "id": "7b7e337a",
   "metadata": {},
   "outputs": [],
   "source": [
    "# Create connection to sqlite \n",
    "engine = create_engine('sqlite:///mental_health.sqlite')"
   ]
  },
  {
   "cell_type": "code",
   "execution_count": 13,
   "id": "430951ba",
   "metadata": {},
   "outputs": [
    {
     "data": {
      "text/plain": [
       "['Answer', 'Question', 'Survey']"
      ]
     },
     "execution_count": 13,
     "metadata": {},
     "output_type": "execute_result"
    }
   ],
   "source": [
    "# inspect the database\n",
    "inspector = inspect(engine)\n",
    "inspector.get_table_names()"
   ]
  },
  {
   "cell_type": "code",
   "execution_count": 14,
   "id": "26efcc6d",
   "metadata": {},
   "outputs": [],
   "source": [
    "# create a connection to the database\n",
    "conn = engine.connect()\n"
   ]
  },
  {
   "cell_type": "code",
   "execution_count": 15,
   "id": "33fadb84",
   "metadata": {},
   "outputs": [],
   "source": [
    "# create dataframes from the database tables\n",
    "answer_df = pd.read_sql('SELECT * FROM Answer', conn)\n",
    "survey_df = pd.read_sql('SELECT * FROM Survey', conn)\n",
    "question_df = pd.read_sql('SELECT * FROM Question', conn)"
   ]
  },
  {
   "cell_type": "code",
   "execution_count": 18,
   "id": "43366d4a",
   "metadata": {},
   "outputs": [],
   "source": [
    "# Create separate csv's from the tables\n",
    "answer_df.to_csv('Answer.csv', index=False, header=True, sep=',')\n",
    "survey_df.to_csv('lite_Survey.csv', index=False, header=True, sep=',')\n",
    "question_df.to_csv('Question.csv', index=False, header=True, sep=',')"
   ]
  },
  {
   "cell_type": "code",
   "execution_count": null,
   "id": "803d03ce",
   "metadata": {},
   "outputs": [],
   "source": []
  },
  {
   "cell_type": "code",
   "execution_count": null,
   "id": "fd7b1642",
   "metadata": {},
   "outputs": [],
   "source": []
  }
 ],
 "metadata": {
  "kernelspec": {
   "display_name": "PythonData",
   "language": "python",
   "name": "pythondata"
  },
  "language_info": {
   "codemirror_mode": {
    "name": "ipython",
    "version": 3
   },
   "file_extension": ".py",
   "mimetype": "text/x-python",
   "name": "python",
   "nbconvert_exporter": "python",
   "pygments_lexer": "ipython3",
   "version": "3.7.11"
  }
 },
 "nbformat": 4,
 "nbformat_minor": 5
}
