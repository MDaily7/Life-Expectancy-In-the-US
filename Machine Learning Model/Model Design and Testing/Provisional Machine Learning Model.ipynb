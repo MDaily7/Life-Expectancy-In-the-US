{
 "cells": [
  {
   "cell_type": "code",
   "execution_count": 193,
   "id": "ab299059",
   "metadata": {},
   "outputs": [],
   "source": [
    "# Import Dependencies\n",
    "import pandas as pd\n",
    "import numpy as np\n",
    "from sklearn.ensemble import RandomForestClassifier\n",
    "from sklearn.preprocessing import StandardScaler\n",
    "from sklearn.model_selection import train_test_split\n",
    "from sklearn.metrics import confusion_matrix, accuracy_score, classification_report"
   ]
  },
  {
   "cell_type": "code",
   "execution_count": 194,
   "id": "5eb4f21e",
   "metadata": {},
   "outputs": [
    {
     "data": {
      "text/html": [
       "<div>\n",
       "<style scoped>\n",
       "    .dataframe tbody tr th:only-of-type {\n",
       "        vertical-align: middle;\n",
       "    }\n",
       "\n",
       "    .dataframe tbody tr th {\n",
       "        vertical-align: top;\n",
       "    }\n",
       "\n",
       "    .dataframe thead th {\n",
       "        text-align: right;\n",
       "    }\n",
       "</style>\n",
       "<table border=\"1\" class=\"dataframe\">\n",
       "  <thead>\n",
       "    <tr style=\"text-align: right;\">\n",
       "      <th></th>\n",
       "      <th>Column 1</th>\n",
       "      <th>Column 2</th>\n",
       "      <th>Column 3</th>\n",
       "      <th>Column 4</th>\n",
       "      <th>Column 5</th>\n",
       "      <th>Column 6</th>\n",
       "    </tr>\n",
       "  </thead>\n",
       "  <tbody>\n",
       "    <tr>\n",
       "      <th>0</th>\n",
       "      <td>3681</td>\n",
       "      <td>527.089120</td>\n",
       "      <td>0.019522</td>\n",
       "      <td>6426.184327</td>\n",
       "      <td>28</td>\n",
       "      <td>1</td>\n",
       "    </tr>\n",
       "    <tr>\n",
       "      <th>1</th>\n",
       "      <td>6236</td>\n",
       "      <td>194.673393</td>\n",
       "      <td>0.857566</td>\n",
       "      <td>31404.399350</td>\n",
       "      <td>5</td>\n",
       "      <td>0</td>\n",
       "    </tr>\n",
       "    <tr>\n",
       "      <th>2</th>\n",
       "      <td>6803</td>\n",
       "      <td>836.749017</td>\n",
       "      <td>0.654375</td>\n",
       "      <td>38310.547838</td>\n",
       "      <td>4</td>\n",
       "      <td>0</td>\n",
       "    </tr>\n",
       "    <tr>\n",
       "      <th>3</th>\n",
       "      <td>7118</td>\n",
       "      <td>214.393582</td>\n",
       "      <td>0.485060</td>\n",
       "      <td>4868.538434</td>\n",
       "      <td>20</td>\n",
       "      <td>0</td>\n",
       "    </tr>\n",
       "    <tr>\n",
       "      <th>4</th>\n",
       "      <td>4734</td>\n",
       "      <td>382.683636</td>\n",
       "      <td>0.619489</td>\n",
       "      <td>13044.214587</td>\n",
       "      <td>6</td>\n",
       "      <td>1</td>\n",
       "    </tr>\n",
       "  </tbody>\n",
       "</table>\n",
       "</div>"
      ],
      "text/plain": [
       "   Column 1    Column 2  Column 3      Column 4  Column 5  Column 6\n",
       "0      3681  527.089120  0.019522   6426.184327        28         1\n",
       "1      6236  194.673393  0.857566  31404.399350         5         0\n",
       "2      6803  836.749017  0.654375  38310.547838         4         0\n",
       "3      7118  214.393582  0.485060   4868.538434        20         0\n",
       "4      4734  382.683636  0.619489  13044.214587         6         1"
      ]
     },
     "execution_count": 194,
     "metadata": {},
     "output_type": "execute_result"
    }
   ],
   "source": [
    "# Create Random Data and place into Df\n",
    "# Create Random Data\n",
    "col_1 = np.random.randint(0, 10001, (501,1), dtype='int64')\n",
    "col_2 = np.random.rand(501,1)*1000\n",
    "col_3= np.random.rand(501,1)\n",
    "col_4= np.random.rand(501,1)*50000\n",
    "col_5 = np.random.randint(0, 86, (501,1), dtype='int64')\n",
    "col_6 = np.random.randint(0, 2, (501,1), dtype='int64')\n",
    "data = [col_1, col_2, col_3, col_4, col_5, col_6]\n",
    "columns = ['Column 1', 'Column 2', 'Column 3', 'Column 4', 'Column 5', 'Column 6']\n",
    "# Create Random Data df\n",
    "mockdata_df=pd.DataFrame(index=list(range(0,501)))\n",
    "for i in list(range(0,6)):\n",
    "    mockdata_df[columns[i]]=data[i]\n",
    "mockdata_df.head()\n"
   ]
  },
  {
   "cell_type": "code",
   "execution_count": 195,
   "id": "9cbc2011",
   "metadata": {},
   "outputs": [],
   "source": [
    "# define features and target\n",
    "X=mockdata_df.copy()\n",
    "X=X.drop('Column 6', axis=1,)\n",
    "y=mockdata_df['Column 6']\n"
   ]
  },
  {
   "cell_type": "code",
   "execution_count": 196,
   "id": "98de54e7",
   "metadata": {},
   "outputs": [],
   "source": [
    "# Create Training and Testing Data sets\n",
    "X_train, X_test, y_train, y_test = train_test_split(X, y, random_state=5)"
   ]
  },
  {
   "cell_type": "code",
   "execution_count": 197,
   "id": "c2689804",
   "metadata": {},
   "outputs": [],
   "source": [
    "# Scale the Data\n",
    "scaler = StandardScaler()\n",
    "X_scaler = scaler.fit(X_train)\n",
    "X_train_scaled = X_scaler.transform(X_train)\n",
    "X_test_scaled = X_scaler.transform(X_test)"
   ]
  },
  {
   "cell_type": "code",
   "execution_count": 198,
   "id": "2d83a9d5",
   "metadata": {},
   "outputs": [],
   "source": [
    "# Create Random Forest Instance\n",
    "rf_model=RandomForestClassifier(n_estimators=500, random_state=5)"
   ]
  },
  {
   "cell_type": "code",
   "execution_count": 199,
   "id": "5aa8a6a4",
   "metadata": {},
   "outputs": [
    {
     "data": {
      "text/plain": [
       "RandomForestClassifier(n_estimators=500, random_state=5)"
      ]
     },
     "execution_count": 199,
     "metadata": {},
     "output_type": "execute_result"
    }
   ],
   "source": [
    "# Fit the Model with training sets\n",
    "rf_model.fit(X_train_scaled, y_train)"
   ]
  },
  {
   "cell_type": "code",
   "execution_count": 200,
   "id": "6af5ebc2",
   "metadata": {},
   "outputs": [],
   "source": [
    "# Make Predictions\n",
    "predictions = rf_model.predict(X_test_scaled)"
   ]
  },
  {
   "cell_type": "code",
   "execution_count": 201,
   "id": "cab8250b",
   "metadata": {},
   "outputs": [
    {
     "name": "stdout",
     "output_type": "stream",
     "text": [
      "Confusion Matrix\n"
     ]
    },
    {
     "data": {
      "text/html": [
       "<div>\n",
       "<style scoped>\n",
       "    .dataframe tbody tr th:only-of-type {\n",
       "        vertical-align: middle;\n",
       "    }\n",
       "\n",
       "    .dataframe tbody tr th {\n",
       "        vertical-align: top;\n",
       "    }\n",
       "\n",
       "    .dataframe thead th {\n",
       "        text-align: right;\n",
       "    }\n",
       "</style>\n",
       "<table border=\"1\" class=\"dataframe\">\n",
       "  <thead>\n",
       "    <tr style=\"text-align: right;\">\n",
       "      <th></th>\n",
       "      <th>Predicted 0</th>\n",
       "      <th>Predicted 1</th>\n",
       "    </tr>\n",
       "  </thead>\n",
       "  <tbody>\n",
       "    <tr>\n",
       "      <th>Actual 0</th>\n",
       "      <td>36</td>\n",
       "      <td>24</td>\n",
       "    </tr>\n",
       "    <tr>\n",
       "      <th>Actual 1</th>\n",
       "      <td>36</td>\n",
       "      <td>30</td>\n",
       "    </tr>\n",
       "  </tbody>\n",
       "</table>\n",
       "</div>"
      ],
      "text/plain": [
       "          Predicted 0  Predicted 1\n",
       "Actual 0           36           24\n",
       "Actual 1           36           30"
      ]
     },
     "metadata": {},
     "output_type": "display_data"
    },
    {
     "name": "stdout",
     "output_type": "stream",
     "text": [
      "Accuracy Score: 0.5238095238095238\n",
      "              precision    recall  f1-score   support\n",
      "\n",
      "           0       0.50      0.60      0.55        60\n",
      "           1       0.56      0.45      0.50        66\n",
      "\n",
      "    accuracy                           0.52       126\n",
      "   macro avg       0.53      0.53      0.52       126\n",
      "weighted avg       0.53      0.52      0.52       126\n",
      "\n"
     ]
    }
   ],
   "source": [
    "# Assess the model \n",
    "cm = confusion_matrix(y_test, predictions)\n",
    "cm_df = pd.DataFrame(cm, index=['Actual 0', 'Actual 1'], columns=['Predicted 0', 'Predicted 1'])\n",
    "acc_score = accuracy_score(y_test, predictions)\n",
    "# Display the Results\n",
    "print('Confusion Matrix')\n",
    "display(cm_df)\n",
    "print(f'Accuracy Score: {acc_score}')\n",
    "print(classification_report(y_test, predictions))"
   ]
  },
  {
   "cell_type": "code",
   "execution_count": 202,
   "id": "4986116c",
   "metadata": {},
   "outputs": [
    {
     "data": {
      "text/plain": [
       "[(0.21231240485339692, 'Column 4'),\n",
       " (0.20836989110294968, 'Column 3'),\n",
       " (0.20297616726084747, 'Column 1'),\n",
       " (0.19677175640633182, 'Column 2'),\n",
       " (0.1795697803764742, 'Column 5')]"
      ]
     },
     "execution_count": 202,
     "metadata": {},
     "output_type": "execute_result"
    }
   ],
   "source": [
    "# Determine Feature Importances and sort in descending order\n",
    "sorted(zip(rf_model.feature_importances_,X.columns), reverse=True)"
   ]
  },
  {
   "cell_type": "code",
   "execution_count": 203,
   "id": "333084da",
   "metadata": {},
   "outputs": [
    {
     "data": {
      "text/html": [
       "<div>\n",
       "<style scoped>\n",
       "    .dataframe tbody tr th:only-of-type {\n",
       "        vertical-align: middle;\n",
       "    }\n",
       "\n",
       "    .dataframe tbody tr th {\n",
       "        vertical-align: top;\n",
       "    }\n",
       "\n",
       "    .dataframe thead th {\n",
       "        text-align: right;\n",
       "    }\n",
       "</style>\n",
       "<table border=\"1\" class=\"dataframe\">\n",
       "  <thead>\n",
       "    <tr style=\"text-align: right;\">\n",
       "      <th></th>\n",
       "      <th>Column 1</th>\n",
       "      <th>Column 2</th>\n",
       "      <th>Column 3</th>\n",
       "      <th>Column 4</th>\n",
       "      <th>Column 5</th>\n",
       "    </tr>\n",
       "  </thead>\n",
       "  <tbody>\n",
       "    <tr>\n",
       "      <th>0</th>\n",
       "      <td>7538</td>\n",
       "      <td>166.266051</td>\n",
       "      <td>0.230211</td>\n",
       "      <td>33371.825710</td>\n",
       "      <td>43</td>\n",
       "    </tr>\n",
       "    <tr>\n",
       "      <th>1</th>\n",
       "      <td>2007</td>\n",
       "      <td>323.146614</td>\n",
       "      <td>0.772611</td>\n",
       "      <td>10529.291222</td>\n",
       "      <td>48</td>\n",
       "    </tr>\n",
       "    <tr>\n",
       "      <th>2</th>\n",
       "      <td>2364</td>\n",
       "      <td>348.914007</td>\n",
       "      <td>0.225228</td>\n",
       "      <td>39763.582434</td>\n",
       "      <td>21</td>\n",
       "    </tr>\n",
       "    <tr>\n",
       "      <th>3</th>\n",
       "      <td>4525</td>\n",
       "      <td>255.428136</td>\n",
       "      <td>0.483272</td>\n",
       "      <td>3689.768227</td>\n",
       "      <td>8</td>\n",
       "    </tr>\n",
       "    <tr>\n",
       "      <th>4</th>\n",
       "      <td>9488</td>\n",
       "      <td>850.711051</td>\n",
       "      <td>0.913506</td>\n",
       "      <td>8742.182866</td>\n",
       "      <td>40</td>\n",
       "    </tr>\n",
       "  </tbody>\n",
       "</table>\n",
       "</div>"
      ],
      "text/plain": [
       "   Column 1    Column 2  Column 3      Column 4  Column 5\n",
       "0      7538  166.266051  0.230211  33371.825710        43\n",
       "1      2007  323.146614  0.772611  10529.291222        48\n",
       "2      2364  348.914007  0.225228  39763.582434        21\n",
       "3      4525  255.428136  0.483272   3689.768227         8\n",
       "4      9488  850.711051  0.913506   8742.182866        40"
      ]
     },
     "execution_count": 203,
     "metadata": {},
     "output_type": "execute_result"
    }
   ],
   "source": [
    "# Create new data for the model to make predictions with \n",
    "# Create Random Data and place into Df\n",
    "# Create Random Data\n",
    "col_1 = np.random.randint(0, 10001, (501,1), dtype='int64')\n",
    "col_2 = np.random.rand(501,1)*1000\n",
    "col_3= np.random.rand(501,1)\n",
    "col_4= np.random.rand(501,1)*50000\n",
    "col_5 = np.random.randint(0, 86, (501,1), dtype='int64')\n",
    "data = [col_1, col_2, col_3, col_4, col_5]\n",
    "columns = ['Column 1', 'Column 2', 'Column 3', 'Column 4', 'Column 5']\n",
    "# Create Random Data df\n",
    "newdata_df=pd.DataFrame(index=list(range(0,501)))\n",
    "for i in list(range(0,5)):\n",
    "    newdata_df[columns[i]]=data[i]\n",
    "newdata_df.head()"
   ]
  },
  {
   "cell_type": "code",
   "execution_count": 204,
   "id": "16af22f2",
   "metadata": {},
   "outputs": [
    {
     "data": {
      "text/html": [
       "<div>\n",
       "<style scoped>\n",
       "    .dataframe tbody tr th:only-of-type {\n",
       "        vertical-align: middle;\n",
       "    }\n",
       "\n",
       "    .dataframe tbody tr th {\n",
       "        vertical-align: top;\n",
       "    }\n",
       "\n",
       "    .dataframe thead th {\n",
       "        text-align: right;\n",
       "    }\n",
       "</style>\n",
       "<table border=\"1\" class=\"dataframe\">\n",
       "  <thead>\n",
       "    <tr style=\"text-align: right;\">\n",
       "      <th></th>\n",
       "      <th>Column 1</th>\n",
       "      <th>Column 2</th>\n",
       "      <th>Column 3</th>\n",
       "      <th>Column 4</th>\n",
       "      <th>Column 5</th>\n",
       "      <th>Predictions</th>\n",
       "    </tr>\n",
       "  </thead>\n",
       "  <tbody>\n",
       "    <tr>\n",
       "      <th>0</th>\n",
       "      <td>7538</td>\n",
       "      <td>166.266051</td>\n",
       "      <td>0.230211</td>\n",
       "      <td>33371.825710</td>\n",
       "      <td>43</td>\n",
       "      <td>0</td>\n",
       "    </tr>\n",
       "    <tr>\n",
       "      <th>1</th>\n",
       "      <td>2007</td>\n",
       "      <td>323.146614</td>\n",
       "      <td>0.772611</td>\n",
       "      <td>10529.291222</td>\n",
       "      <td>48</td>\n",
       "      <td>0</td>\n",
       "    </tr>\n",
       "    <tr>\n",
       "      <th>2</th>\n",
       "      <td>2364</td>\n",
       "      <td>348.914007</td>\n",
       "      <td>0.225228</td>\n",
       "      <td>39763.582434</td>\n",
       "      <td>21</td>\n",
       "      <td>0</td>\n",
       "    </tr>\n",
       "    <tr>\n",
       "      <th>3</th>\n",
       "      <td>4525</td>\n",
       "      <td>255.428136</td>\n",
       "      <td>0.483272</td>\n",
       "      <td>3689.768227</td>\n",
       "      <td>8</td>\n",
       "      <td>0</td>\n",
       "    </tr>\n",
       "    <tr>\n",
       "      <th>4</th>\n",
       "      <td>9488</td>\n",
       "      <td>850.711051</td>\n",
       "      <td>0.913506</td>\n",
       "      <td>8742.182866</td>\n",
       "      <td>40</td>\n",
       "      <td>0</td>\n",
       "    </tr>\n",
       "  </tbody>\n",
       "</table>\n",
       "</div>"
      ],
      "text/plain": [
       "   Column 1    Column 2  Column 3      Column 4  Column 5  Predictions\n",
       "0      7538  166.266051  0.230211  33371.825710        43            0\n",
       "1      2007  323.146614  0.772611  10529.291222        48            0\n",
       "2      2364  348.914007  0.225228  39763.582434        21            0\n",
       "3      4525  255.428136  0.483272   3689.768227         8            0\n",
       "4      9488  850.711051  0.913506   8742.182866        40            0"
      ]
     },
     "execution_count": 204,
     "metadata": {},
     "output_type": "execute_result"
    }
   ],
   "source": [
    "# Use the model to make predictions about the new data\n",
    "new_predictions = rf_model.predict(newdata_df)\n",
    "# add the new predictions to the new dataframe\n",
    "newdata_df['Predictions']=new_predictions\n",
    "newdata_df.head()"
   ]
  },
  {
   "cell_type": "code",
   "execution_count": 205,
   "id": "f4b77254",
   "metadata": {},
   "outputs": [],
   "source": [
    "# Create a Function to change encoded labels to informative labels\n",
    "def code_to_string(code):\n",
    "    if code == 1:\n",
    "        code = 'Treatment'\n",
    "    else:\n",
    "        code = 'No Treatment'\n",
    "    return code"
   ]
  },
  {
   "cell_type": "code",
   "execution_count": 206,
   "id": "2fdb04ae",
   "metadata": {},
   "outputs": [
    {
     "data": {
      "text/html": [
       "<div>\n",
       "<style scoped>\n",
       "    .dataframe tbody tr th:only-of-type {\n",
       "        vertical-align: middle;\n",
       "    }\n",
       "\n",
       "    .dataframe tbody tr th {\n",
       "        vertical-align: top;\n",
       "    }\n",
       "\n",
       "    .dataframe thead th {\n",
       "        text-align: right;\n",
       "    }\n",
       "</style>\n",
       "<table border=\"1\" class=\"dataframe\">\n",
       "  <thead>\n",
       "    <tr style=\"text-align: right;\">\n",
       "      <th></th>\n",
       "      <th>Column 1</th>\n",
       "      <th>Column 2</th>\n",
       "      <th>Column 3</th>\n",
       "      <th>Column 4</th>\n",
       "      <th>Column 5</th>\n",
       "      <th>Predictions</th>\n",
       "    </tr>\n",
       "  </thead>\n",
       "  <tbody>\n",
       "    <tr>\n",
       "      <th>0</th>\n",
       "      <td>7538</td>\n",
       "      <td>166.266051</td>\n",
       "      <td>0.230211</td>\n",
       "      <td>33371.825710</td>\n",
       "      <td>43</td>\n",
       "      <td>No Treatment</td>\n",
       "    </tr>\n",
       "    <tr>\n",
       "      <th>1</th>\n",
       "      <td>2007</td>\n",
       "      <td>323.146614</td>\n",
       "      <td>0.772611</td>\n",
       "      <td>10529.291222</td>\n",
       "      <td>48</td>\n",
       "      <td>No Treatment</td>\n",
       "    </tr>\n",
       "    <tr>\n",
       "      <th>2</th>\n",
       "      <td>2364</td>\n",
       "      <td>348.914007</td>\n",
       "      <td>0.225228</td>\n",
       "      <td>39763.582434</td>\n",
       "      <td>21</td>\n",
       "      <td>No Treatment</td>\n",
       "    </tr>\n",
       "    <tr>\n",
       "      <th>3</th>\n",
       "      <td>4525</td>\n",
       "      <td>255.428136</td>\n",
       "      <td>0.483272</td>\n",
       "      <td>3689.768227</td>\n",
       "      <td>8</td>\n",
       "      <td>No Treatment</td>\n",
       "    </tr>\n",
       "    <tr>\n",
       "      <th>4</th>\n",
       "      <td>9488</td>\n",
       "      <td>850.711051</td>\n",
       "      <td>0.913506</td>\n",
       "      <td>8742.182866</td>\n",
       "      <td>40</td>\n",
       "      <td>No Treatment</td>\n",
       "    </tr>\n",
       "  </tbody>\n",
       "</table>\n",
       "</div>"
      ],
      "text/plain": [
       "   Column 1    Column 2  Column 3      Column 4  Column 5   Predictions\n",
       "0      7538  166.266051  0.230211  33371.825710        43  No Treatment\n",
       "1      2007  323.146614  0.772611  10529.291222        48  No Treatment\n",
       "2      2364  348.914007  0.225228  39763.582434        21  No Treatment\n",
       "3      4525  255.428136  0.483272   3689.768227         8  No Treatment\n",
       "4      9488  850.711051  0.913506   8742.182866        40  No Treatment"
      ]
     },
     "execution_count": 206,
     "metadata": {},
     "output_type": "execute_result"
    }
   ],
   "source": [
    "# apply function to predictions column\n",
    "newdata_df['Predictions'] = newdata_df['Predictions'].apply(code_to_string)\n",
    "newdata_df.head()"
   ]
  },
  {
   "cell_type": "code",
   "execution_count": 207,
   "id": "c57846cc",
   "metadata": {},
   "outputs": [
    {
     "data": {
      "text/plain": [
       "No Treatment    498\n",
       "Treatment         3\n",
       "Name: Predictions, dtype: int64"
      ]
     },
     "execution_count": 207,
     "metadata": {},
     "output_type": "execute_result"
    }
   ],
   "source": [
    "# Count the Predictions\n",
    "newdata_df['Predictions'].value_counts()\n"
   ]
  },
  {
   "cell_type": "code",
   "execution_count": null,
   "id": "99eeb10e",
   "metadata": {},
   "outputs": [],
   "source": []
  },
  {
   "cell_type": "code",
   "execution_count": null,
   "id": "3c7af434",
   "metadata": {},
   "outputs": [],
   "source": []
  },
  {
   "cell_type": "code",
   "execution_count": null,
   "id": "a30a6656",
   "metadata": {},
   "outputs": [],
   "source": []
  }
 ],
 "metadata": {
  "kernelspec": {
   "display_name": "mlenv",
   "language": "python",
   "name": "mlenv"
  },
  "language_info": {
   "codemirror_mode": {
    "name": "ipython",
    "version": 3
   },
   "file_extension": ".py",
   "mimetype": "text/x-python",
   "name": "python",
   "nbconvert_exporter": "python",
   "pygments_lexer": "ipython3",
   "version": "3.7.11"
  }
 },
 "nbformat": 4,
 "nbformat_minor": 5
}
