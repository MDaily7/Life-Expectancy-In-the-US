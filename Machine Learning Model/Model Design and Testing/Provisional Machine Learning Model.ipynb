{
 "cells": [
  {
   "cell_type": "code",
   "execution_count": 36,
   "id": "ab299059",
   "metadata": {},
   "outputs": [],
   "source": [
    "# Import Dependencies\n",
    "import pandas as pd\n",
    "import numpy as np\n",
    "import matplotlib.pyplot as plt\n",
    "import seaborn as sns\n",
    "from sklearn.ensemble import RandomForestClassifier\n",
    "from sklearn.preprocessing import StandardScaler, MinMaxScaler\n",
    "from sklearn.model_selection import train_test_split\n",
    "from sklearn.metrics import confusion_matrix, accuracy_score, classification_report, r2_score\n",
    "import statsmodels.api as sm\n",
    "from statsmodels.stats.outliers_influence import variance_inflation_factor\n",
    "from sklearn.linear_model import LinearRegression\n",
    "from sklearn.feature_selection import RFE\n",
    "%matplotlib inline"
   ]
  },
  {
   "cell_type": "code",
   "execution_count": 3,
   "id": "5eb4f21e",
   "metadata": {},
   "outputs": [
    {
     "data": {
      "text/html": [
       "<div>\n",
       "<style scoped>\n",
       "    .dataframe tbody tr th:only-of-type {\n",
       "        vertical-align: middle;\n",
       "    }\n",
       "\n",
       "    .dataframe tbody tr th {\n",
       "        vertical-align: top;\n",
       "    }\n",
       "\n",
       "    .dataframe thead th {\n",
       "        text-align: right;\n",
       "    }\n",
       "</style>\n",
       "<table border=\"1\" class=\"dataframe\">\n",
       "  <thead>\n",
       "    <tr style=\"text-align: right;\">\n",
       "      <th></th>\n",
       "      <th>Column 1</th>\n",
       "      <th>Column 2</th>\n",
       "      <th>Column 3</th>\n",
       "      <th>Column 4</th>\n",
       "      <th>Column 5</th>\n",
       "      <th>Column 6</th>\n",
       "    </tr>\n",
       "  </thead>\n",
       "  <tbody>\n",
       "    <tr>\n",
       "      <th>0</th>\n",
       "      <td>8071</td>\n",
       "      <td>151.711773</td>\n",
       "      <td>0.735773</td>\n",
       "      <td>20048.206783</td>\n",
       "      <td>44</td>\n",
       "      <td>0</td>\n",
       "    </tr>\n",
       "    <tr>\n",
       "      <th>1</th>\n",
       "      <td>8914</td>\n",
       "      <td>717.842753</td>\n",
       "      <td>0.764578</td>\n",
       "      <td>42410.844378</td>\n",
       "      <td>74</td>\n",
       "      <td>0</td>\n",
       "    </tr>\n",
       "    <tr>\n",
       "      <th>2</th>\n",
       "      <td>8095</td>\n",
       "      <td>449.993367</td>\n",
       "      <td>0.511476</td>\n",
       "      <td>45388.798648</td>\n",
       "      <td>13</td>\n",
       "      <td>1</td>\n",
       "    </tr>\n",
       "    <tr>\n",
       "      <th>3</th>\n",
       "      <td>884</td>\n",
       "      <td>87.461121</td>\n",
       "      <td>0.199440</td>\n",
       "      <td>40691.995210</td>\n",
       "      <td>62</td>\n",
       "      <td>1</td>\n",
       "    </tr>\n",
       "    <tr>\n",
       "      <th>4</th>\n",
       "      <td>3108</td>\n",
       "      <td>1.183245</td>\n",
       "      <td>0.179032</td>\n",
       "      <td>31155.647234</td>\n",
       "      <td>31</td>\n",
       "      <td>1</td>\n",
       "    </tr>\n",
       "  </tbody>\n",
       "</table>\n",
       "</div>"
      ],
      "text/plain": [
       "   Column 1    Column 2  Column 3      Column 4  Column 5  Column 6\n",
       "0      8071  151.711773  0.735773  20048.206783        44         0\n",
       "1      8914  717.842753  0.764578  42410.844378        74         0\n",
       "2      8095  449.993367  0.511476  45388.798648        13         1\n",
       "3       884   87.461121  0.199440  40691.995210        62         1\n",
       "4      3108    1.183245  0.179032  31155.647234        31         1"
      ]
     },
     "execution_count": 3,
     "metadata": {},
     "output_type": "execute_result"
    }
   ],
   "source": [
    "# Create Random Data and place into Df\n",
    "# Create Random Data\n",
    "col_1 = np.random.randint(0, 10001, (501,1), dtype='int64')\n",
    "col_2 = np.random.rand(501,1)*1000\n",
    "col_3= np.random.rand(501,1)\n",
    "col_4= np.random.rand(501,1)*50000\n",
    "col_5 = np.random.randint(0, 86, (501,1), dtype='int64')\n",
    "col_6 = np.random.randint(0, 2, (501,1), dtype='int64')\n",
    "data = [col_1, col_2, col_3, col_4, col_5, col_6]\n",
    "columns = ['Column 1', 'Column 2', 'Column 3', 'Column 4', 'Column 5', 'Column 6']\n",
    "# Create Random Data df\n",
    "mockdata_df=pd.DataFrame(index=list(range(0,501)))\n",
    "for i in list(range(0,6)):\n",
    "    mockdata_df[columns[i]]=data[i]\n",
    "mockdata_df.head()\n"
   ]
  },
  {
   "cell_type": "code",
   "execution_count": 4,
   "id": "9cbc2011",
   "metadata": {},
   "outputs": [],
   "source": [
    "# define features and target\n",
    "X=mockdata_df.copy()\n",
    "X=X.drop('Column 6', axis=1,)\n",
    "y=mockdata_df['Column 6']\n"
   ]
  },
  {
   "cell_type": "code",
   "execution_count": 5,
   "id": "98de54e7",
   "metadata": {},
   "outputs": [],
   "source": [
    "# Create Training and Testing Data sets\n",
    "X_train, X_test, y_train, y_test = train_test_split(X, y, random_state=5)"
   ]
  },
  {
   "cell_type": "code",
   "execution_count": 6,
   "id": "c2689804",
   "metadata": {},
   "outputs": [],
   "source": [
    "# Scale the Data\n",
    "scaler = StandardScaler()\n",
    "X_scaler = scaler.fit(X_train)\n",
    "X_train_scaled = X_scaler.transform(X_train)\n",
    "X_test_scaled = X_scaler.transform(X_test)"
   ]
  },
  {
   "cell_type": "code",
   "execution_count": 7,
   "id": "2d83a9d5",
   "metadata": {},
   "outputs": [],
   "source": [
    "# Create Random Forest Instance\n",
    "rf_model=RandomForestClassifier(n_estimators=500, random_state=5)"
   ]
  },
  {
   "cell_type": "code",
   "execution_count": 8,
   "id": "5aa8a6a4",
   "metadata": {},
   "outputs": [
    {
     "data": {
      "text/plain": [
       "RandomForestClassifier(n_estimators=500, random_state=5)"
      ]
     },
     "execution_count": 8,
     "metadata": {},
     "output_type": "execute_result"
    }
   ],
   "source": [
    "# Fit the Model with training sets\n",
    "rf_model.fit(X_train_scaled, y_train)"
   ]
  },
  {
   "cell_type": "code",
   "execution_count": 9,
   "id": "6af5ebc2",
   "metadata": {},
   "outputs": [],
   "source": [
    "# Make Predictions\n",
    "predictions = rf_model.predict(X_test_scaled)"
   ]
  },
  {
   "cell_type": "code",
   "execution_count": 10,
   "id": "cab8250b",
   "metadata": {},
   "outputs": [
    {
     "name": "stdout",
     "output_type": "stream",
     "text": [
      "Confusion Matrix\n"
     ]
    },
    {
     "data": {
      "text/html": [
       "<div>\n",
       "<style scoped>\n",
       "    .dataframe tbody tr th:only-of-type {\n",
       "        vertical-align: middle;\n",
       "    }\n",
       "\n",
       "    .dataframe tbody tr th {\n",
       "        vertical-align: top;\n",
       "    }\n",
       "\n",
       "    .dataframe thead th {\n",
       "        text-align: right;\n",
       "    }\n",
       "</style>\n",
       "<table border=\"1\" class=\"dataframe\">\n",
       "  <thead>\n",
       "    <tr style=\"text-align: right;\">\n",
       "      <th></th>\n",
       "      <th>Predicted 0</th>\n",
       "      <th>Predicted 1</th>\n",
       "    </tr>\n",
       "  </thead>\n",
       "  <tbody>\n",
       "    <tr>\n",
       "      <th>Actual 0</th>\n",
       "      <td>15</td>\n",
       "      <td>42</td>\n",
       "    </tr>\n",
       "    <tr>\n",
       "      <th>Actual 1</th>\n",
       "      <td>30</td>\n",
       "      <td>39</td>\n",
       "    </tr>\n",
       "  </tbody>\n",
       "</table>\n",
       "</div>"
      ],
      "text/plain": [
       "          Predicted 0  Predicted 1\n",
       "Actual 0           15           42\n",
       "Actual 1           30           39"
      ]
     },
     "metadata": {},
     "output_type": "display_data"
    },
    {
     "name": "stdout",
     "output_type": "stream",
     "text": [
      "Accuracy Score: 0.42857142857142855\n",
      "              precision    recall  f1-score   support\n",
      "\n",
      "           0       0.33      0.26      0.29        57\n",
      "           1       0.48      0.57      0.52        69\n",
      "\n",
      "    accuracy                           0.43       126\n",
      "   macro avg       0.41      0.41      0.41       126\n",
      "weighted avg       0.41      0.43      0.42       126\n",
      "\n"
     ]
    }
   ],
   "source": [
    "# Assess the model \n",
    "cm = confusion_matrix(y_test, predictions)\n",
    "cm_df = pd.DataFrame(cm, index=['Actual 0', 'Actual 1'], columns=['Predicted 0', 'Predicted 1'])\n",
    "acc_score = accuracy_score(y_test, predictions)\n",
    "# Display the Results\n",
    "print('Confusion Matrix')\n",
    "display(cm_df)\n",
    "print(f'Accuracy Score: {acc_score}')\n",
    "print(classification_report(y_test, predictions))"
   ]
  },
  {
   "cell_type": "code",
   "execution_count": 11,
   "id": "4986116c",
   "metadata": {},
   "outputs": [
    {
     "data": {
      "text/plain": [
       "[(0.2150003784684509, 'Column 1'),\n",
       " (0.2082828218565108, 'Column 2'),\n",
       " (0.20651508840075658, 'Column 3'),\n",
       " (0.20020314898270675, 'Column 4'),\n",
       " (0.1699985622915749, 'Column 5')]"
      ]
     },
     "execution_count": 11,
     "metadata": {},
     "output_type": "execute_result"
    }
   ],
   "source": [
    "# Determine Feature Importances and sort in descending order\n",
    "sorted(zip(rf_model.feature_importances_,X.columns), reverse=True)"
   ]
  },
  {
   "cell_type": "code",
   "execution_count": 12,
   "id": "333084da",
   "metadata": {},
   "outputs": [
    {
     "data": {
      "text/html": [
       "<div>\n",
       "<style scoped>\n",
       "    .dataframe tbody tr th:only-of-type {\n",
       "        vertical-align: middle;\n",
       "    }\n",
       "\n",
       "    .dataframe tbody tr th {\n",
       "        vertical-align: top;\n",
       "    }\n",
       "\n",
       "    .dataframe thead th {\n",
       "        text-align: right;\n",
       "    }\n",
       "</style>\n",
       "<table border=\"1\" class=\"dataframe\">\n",
       "  <thead>\n",
       "    <tr style=\"text-align: right;\">\n",
       "      <th></th>\n",
       "      <th>Column 1</th>\n",
       "      <th>Column 2</th>\n",
       "      <th>Column 3</th>\n",
       "      <th>Column 4</th>\n",
       "      <th>Column 5</th>\n",
       "    </tr>\n",
       "  </thead>\n",
       "  <tbody>\n",
       "    <tr>\n",
       "      <th>0</th>\n",
       "      <td>6217</td>\n",
       "      <td>127.530061</td>\n",
       "      <td>0.132878</td>\n",
       "      <td>5091.464611</td>\n",
       "      <td>32</td>\n",
       "    </tr>\n",
       "    <tr>\n",
       "      <th>1</th>\n",
       "      <td>6272</td>\n",
       "      <td>361.472135</td>\n",
       "      <td>0.565152</td>\n",
       "      <td>43520.107307</td>\n",
       "      <td>50</td>\n",
       "    </tr>\n",
       "    <tr>\n",
       "      <th>2</th>\n",
       "      <td>9182</td>\n",
       "      <td>460.228954</td>\n",
       "      <td>0.486632</td>\n",
       "      <td>34896.333593</td>\n",
       "      <td>60</td>\n",
       "    </tr>\n",
       "    <tr>\n",
       "      <th>3</th>\n",
       "      <td>4009</td>\n",
       "      <td>980.534250</td>\n",
       "      <td>0.358161</td>\n",
       "      <td>24560.692677</td>\n",
       "      <td>13</td>\n",
       "    </tr>\n",
       "    <tr>\n",
       "      <th>4</th>\n",
       "      <td>4628</td>\n",
       "      <td>698.368694</td>\n",
       "      <td>0.886554</td>\n",
       "      <td>25311.823958</td>\n",
       "      <td>42</td>\n",
       "    </tr>\n",
       "  </tbody>\n",
       "</table>\n",
       "</div>"
      ],
      "text/plain": [
       "   Column 1    Column 2  Column 3      Column 4  Column 5\n",
       "0      6217  127.530061  0.132878   5091.464611        32\n",
       "1      6272  361.472135  0.565152  43520.107307        50\n",
       "2      9182  460.228954  0.486632  34896.333593        60\n",
       "3      4009  980.534250  0.358161  24560.692677        13\n",
       "4      4628  698.368694  0.886554  25311.823958        42"
      ]
     },
     "execution_count": 12,
     "metadata": {},
     "output_type": "execute_result"
    }
   ],
   "source": [
    "# Create new data for the model to make predictions with \n",
    "# Create Random Data and place into Df\n",
    "# Create Random Data\n",
    "col_1 = np.random.randint(0, 10001, (501,1), dtype='int64')\n",
    "col_2 = np.random.rand(501,1)*1000\n",
    "col_3= np.random.rand(501,1)\n",
    "col_4= np.random.rand(501,1)*50000\n",
    "col_5 = np.random.randint(0, 86, (501,1), dtype='int64')\n",
    "data = [col_1, col_2, col_3, col_4, col_5]\n",
    "columns = ['Column 1', 'Column 2', 'Column 3', 'Column 4', 'Column 5']\n",
    "# Create Random Data df\n",
    "newdata_df=pd.DataFrame(index=list(range(0,501)))\n",
    "for i in list(range(0,5)):\n",
    "    newdata_df[columns[i]]=data[i]\n",
    "newdata_df.head()"
   ]
  },
  {
   "cell_type": "code",
   "execution_count": 13,
   "id": "16af22f2",
   "metadata": {},
   "outputs": [
    {
     "data": {
      "text/html": [
       "<div>\n",
       "<style scoped>\n",
       "    .dataframe tbody tr th:only-of-type {\n",
       "        vertical-align: middle;\n",
       "    }\n",
       "\n",
       "    .dataframe tbody tr th {\n",
       "        vertical-align: top;\n",
       "    }\n",
       "\n",
       "    .dataframe thead th {\n",
       "        text-align: right;\n",
       "    }\n",
       "</style>\n",
       "<table border=\"1\" class=\"dataframe\">\n",
       "  <thead>\n",
       "    <tr style=\"text-align: right;\">\n",
       "      <th></th>\n",
       "      <th>Column 1</th>\n",
       "      <th>Column 2</th>\n",
       "      <th>Column 3</th>\n",
       "      <th>Column 4</th>\n",
       "      <th>Column 5</th>\n",
       "      <th>Predictions</th>\n",
       "    </tr>\n",
       "  </thead>\n",
       "  <tbody>\n",
       "    <tr>\n",
       "      <th>0</th>\n",
       "      <td>6217</td>\n",
       "      <td>127.530061</td>\n",
       "      <td>0.132878</td>\n",
       "      <td>5091.464611</td>\n",
       "      <td>32</td>\n",
       "      <td>0</td>\n",
       "    </tr>\n",
       "    <tr>\n",
       "      <th>1</th>\n",
       "      <td>6272</td>\n",
       "      <td>361.472135</td>\n",
       "      <td>0.565152</td>\n",
       "      <td>43520.107307</td>\n",
       "      <td>50</td>\n",
       "      <td>0</td>\n",
       "    </tr>\n",
       "    <tr>\n",
       "      <th>2</th>\n",
       "      <td>9182</td>\n",
       "      <td>460.228954</td>\n",
       "      <td>0.486632</td>\n",
       "      <td>34896.333593</td>\n",
       "      <td>60</td>\n",
       "      <td>0</td>\n",
       "    </tr>\n",
       "    <tr>\n",
       "      <th>3</th>\n",
       "      <td>4009</td>\n",
       "      <td>980.534250</td>\n",
       "      <td>0.358161</td>\n",
       "      <td>24560.692677</td>\n",
       "      <td>13</td>\n",
       "      <td>0</td>\n",
       "    </tr>\n",
       "    <tr>\n",
       "      <th>4</th>\n",
       "      <td>4628</td>\n",
       "      <td>698.368694</td>\n",
       "      <td>0.886554</td>\n",
       "      <td>25311.823958</td>\n",
       "      <td>42</td>\n",
       "      <td>0</td>\n",
       "    </tr>\n",
       "  </tbody>\n",
       "</table>\n",
       "</div>"
      ],
      "text/plain": [
       "   Column 1    Column 2  Column 3      Column 4  Column 5  Predictions\n",
       "0      6217  127.530061  0.132878   5091.464611        32            0\n",
       "1      6272  361.472135  0.565152  43520.107307        50            0\n",
       "2      9182  460.228954  0.486632  34896.333593        60            0\n",
       "3      4009  980.534250  0.358161  24560.692677        13            0\n",
       "4      4628  698.368694  0.886554  25311.823958        42            0"
      ]
     },
     "execution_count": 13,
     "metadata": {},
     "output_type": "execute_result"
    }
   ],
   "source": [
    "# Use the model to make predictions about the new data\n",
    "new_predictions = rf_model.predict(newdata_df)\n",
    "# add the new predictions to the new dataframe\n",
    "newdata_df['Predictions']=new_predictions\n",
    "newdata_df.head()"
   ]
  },
  {
   "cell_type": "code",
   "execution_count": 14,
   "id": "f4b77254",
   "metadata": {},
   "outputs": [],
   "source": [
    "# Create a Function to change encoded labels to informative labels\n",
    "def code_to_string(code):\n",
    "    if code == 1:\n",
    "        code = 'Treatment'\n",
    "    else:\n",
    "        code = 'No Treatment'\n",
    "    return code"
   ]
  },
  {
   "cell_type": "code",
   "execution_count": 15,
   "id": "2fdb04ae",
   "metadata": {},
   "outputs": [
    {
     "data": {
      "text/html": [
       "<div>\n",
       "<style scoped>\n",
       "    .dataframe tbody tr th:only-of-type {\n",
       "        vertical-align: middle;\n",
       "    }\n",
       "\n",
       "    .dataframe tbody tr th {\n",
       "        vertical-align: top;\n",
       "    }\n",
       "\n",
       "    .dataframe thead th {\n",
       "        text-align: right;\n",
       "    }\n",
       "</style>\n",
       "<table border=\"1\" class=\"dataframe\">\n",
       "  <thead>\n",
       "    <tr style=\"text-align: right;\">\n",
       "      <th></th>\n",
       "      <th>Column 1</th>\n",
       "      <th>Column 2</th>\n",
       "      <th>Column 3</th>\n",
       "      <th>Column 4</th>\n",
       "      <th>Column 5</th>\n",
       "      <th>Predictions</th>\n",
       "    </tr>\n",
       "  </thead>\n",
       "  <tbody>\n",
       "    <tr>\n",
       "      <th>0</th>\n",
       "      <td>6217</td>\n",
       "      <td>127.530061</td>\n",
       "      <td>0.132878</td>\n",
       "      <td>5091.464611</td>\n",
       "      <td>32</td>\n",
       "      <td>No Treatment</td>\n",
       "    </tr>\n",
       "    <tr>\n",
       "      <th>1</th>\n",
       "      <td>6272</td>\n",
       "      <td>361.472135</td>\n",
       "      <td>0.565152</td>\n",
       "      <td>43520.107307</td>\n",
       "      <td>50</td>\n",
       "      <td>No Treatment</td>\n",
       "    </tr>\n",
       "    <tr>\n",
       "      <th>2</th>\n",
       "      <td>9182</td>\n",
       "      <td>460.228954</td>\n",
       "      <td>0.486632</td>\n",
       "      <td>34896.333593</td>\n",
       "      <td>60</td>\n",
       "      <td>No Treatment</td>\n",
       "    </tr>\n",
       "    <tr>\n",
       "      <th>3</th>\n",
       "      <td>4009</td>\n",
       "      <td>980.534250</td>\n",
       "      <td>0.358161</td>\n",
       "      <td>24560.692677</td>\n",
       "      <td>13</td>\n",
       "      <td>No Treatment</td>\n",
       "    </tr>\n",
       "    <tr>\n",
       "      <th>4</th>\n",
       "      <td>4628</td>\n",
       "      <td>698.368694</td>\n",
       "      <td>0.886554</td>\n",
       "      <td>25311.823958</td>\n",
       "      <td>42</td>\n",
       "      <td>No Treatment</td>\n",
       "    </tr>\n",
       "  </tbody>\n",
       "</table>\n",
       "</div>"
      ],
      "text/plain": [
       "   Column 1    Column 2  Column 3      Column 4  Column 5   Predictions\n",
       "0      6217  127.530061  0.132878   5091.464611        32  No Treatment\n",
       "1      6272  361.472135  0.565152  43520.107307        50  No Treatment\n",
       "2      9182  460.228954  0.486632  34896.333593        60  No Treatment\n",
       "3      4009  980.534250  0.358161  24560.692677        13  No Treatment\n",
       "4      4628  698.368694  0.886554  25311.823958        42  No Treatment"
      ]
     },
     "execution_count": 15,
     "metadata": {},
     "output_type": "execute_result"
    }
   ],
   "source": [
    "# apply function to predictions column\n",
    "newdata_df['Predictions'] = newdata_df['Predictions'].apply(code_to_string)\n",
    "newdata_df.head()"
   ]
  },
  {
   "cell_type": "code",
   "execution_count": 16,
   "id": "c57846cc",
   "metadata": {},
   "outputs": [
    {
     "data": {
      "text/plain": [
       "No Treatment    501\n",
       "Name: Predictions, dtype: int64"
      ]
     },
     "execution_count": 16,
     "metadata": {},
     "output_type": "execute_result"
    }
   ],
   "source": [
    "# Count the Predictions\n",
    "newdata_df['Predictions'].value_counts()\n"
   ]
  },
  {
   "cell_type": "markdown",
   "id": "52b8e277",
   "metadata": {},
   "source": [
    "# Multiple Linear Regression Mockup"
   ]
  },
  {
   "cell_type": "code",
   "execution_count": 17,
   "id": "3c7af434",
   "metadata": {},
   "outputs": [
    {
     "data": {
      "text/html": [
       "<div>\n",
       "<style scoped>\n",
       "    .dataframe tbody tr th:only-of-type {\n",
       "        vertical-align: middle;\n",
       "    }\n",
       "\n",
       "    .dataframe tbody tr th {\n",
       "        vertical-align: top;\n",
       "    }\n",
       "\n",
       "    .dataframe thead th {\n",
       "        text-align: right;\n",
       "    }\n",
       "</style>\n",
       "<table border=\"1\" class=\"dataframe\">\n",
       "  <thead>\n",
       "    <tr style=\"text-align: right;\">\n",
       "      <th></th>\n",
       "      <th>Column 1</th>\n",
       "      <th>Column 2</th>\n",
       "      <th>Column 3</th>\n",
       "      <th>Column 4</th>\n",
       "      <th>Column 5</th>\n",
       "      <th>Column 6</th>\n",
       "      <th>Column 7</th>\n",
       "      <th>Column 8</th>\n",
       "      <th>Column 9</th>\n",
       "      <th>Column 10</th>\n",
       "    </tr>\n",
       "  </thead>\n",
       "  <tbody>\n",
       "    <tr>\n",
       "      <th>0</th>\n",
       "      <td>7851</td>\n",
       "      <td>483.185320</td>\n",
       "      <td>0.218207</td>\n",
       "      <td>39186.589570</td>\n",
       "      <td>24</td>\n",
       "      <td>2800</td>\n",
       "      <td>677.255651</td>\n",
       "      <td>0.311649</td>\n",
       "      <td>38800.081640</td>\n",
       "      <td>59</td>\n",
       "    </tr>\n",
       "    <tr>\n",
       "      <th>1</th>\n",
       "      <td>144</td>\n",
       "      <td>841.394293</td>\n",
       "      <td>0.034522</td>\n",
       "      <td>9736.459031</td>\n",
       "      <td>5</td>\n",
       "      <td>8635</td>\n",
       "      <td>913.157509</td>\n",
       "      <td>0.398817</td>\n",
       "      <td>36166.476137</td>\n",
       "      <td>15</td>\n",
       "    </tr>\n",
       "    <tr>\n",
       "      <th>2</th>\n",
       "      <td>1200</td>\n",
       "      <td>46.684858</td>\n",
       "      <td>0.173577</td>\n",
       "      <td>30410.280516</td>\n",
       "      <td>73</td>\n",
       "      <td>288</td>\n",
       "      <td>172.136873</td>\n",
       "      <td>0.507589</td>\n",
       "      <td>1110.011210</td>\n",
       "      <td>34</td>\n",
       "    </tr>\n",
       "    <tr>\n",
       "      <th>3</th>\n",
       "      <td>3223</td>\n",
       "      <td>234.441282</td>\n",
       "      <td>0.581806</td>\n",
       "      <td>47698.818659</td>\n",
       "      <td>82</td>\n",
       "      <td>4395</td>\n",
       "      <td>146.941333</td>\n",
       "      <td>0.416836</td>\n",
       "      <td>28312.236306</td>\n",
       "      <td>76</td>\n",
       "    </tr>\n",
       "    <tr>\n",
       "      <th>4</th>\n",
       "      <td>1102</td>\n",
       "      <td>506.412482</td>\n",
       "      <td>0.364739</td>\n",
       "      <td>33018.194940</td>\n",
       "      <td>32</td>\n",
       "      <td>8268</td>\n",
       "      <td>781.018183</td>\n",
       "      <td>0.054505</td>\n",
       "      <td>47098.246402</td>\n",
       "      <td>53</td>\n",
       "    </tr>\n",
       "  </tbody>\n",
       "</table>\n",
       "</div>"
      ],
      "text/plain": [
       "   Column 1    Column 2  Column 3      Column 4  Column 5  Column 6  \\\n",
       "0      7851  483.185320  0.218207  39186.589570        24      2800   \n",
       "1       144  841.394293  0.034522   9736.459031         5      8635   \n",
       "2      1200   46.684858  0.173577  30410.280516        73       288   \n",
       "3      3223  234.441282  0.581806  47698.818659        82      4395   \n",
       "4      1102  506.412482  0.364739  33018.194940        32      8268   \n",
       "\n",
       "     Column 7  Column 8      Column 9  Column 10  \n",
       "0  677.255651  0.311649  38800.081640         59  \n",
       "1  913.157509  0.398817  36166.476137         15  \n",
       "2  172.136873  0.507589   1110.011210         34  \n",
       "3  146.941333  0.416836  28312.236306         76  \n",
       "4  781.018183  0.054505  47098.246402         53  "
      ]
     },
     "execution_count": 17,
     "metadata": {},
     "output_type": "execute_result"
    }
   ],
   "source": [
    "# Create Random Data and place into Df\n",
    "# Create Random Data\n",
    "col_1 = np.random.randint(0, 10001, (501,1), dtype='int64')\n",
    "col_2 = np.random.rand(501,1)*1000\n",
    "col_3= np.random.rand(501,1)\n",
    "col_4= np.random.rand(501,1)*50000\n",
    "col_5 = np.random.randint(0, 86, (501,1), dtype='int64')\n",
    "col_6 = np.random.randint(0, 10001, (501,1), dtype='int64')\n",
    "col_7 = np.random.rand(501,1)*1000\n",
    "col_8= np.random.rand(501,1)\n",
    "col_9= np.random.rand(501,1)*50000\n",
    "col_10 = np.random.randint(1, 100, (501,1), dtype='int64')\n",
    "data = [col_1, col_2, col_3, col_4, col_5, col_6, col_7, col_8, col_9, col_10]\n",
    "columns = ['Column 1', 'Column 2', 'Column 3', 'Column 4', 'Column 5', 'Column 6', 'Column 7', 'Column 8', 'Column 9', 'Column 10']\n",
    "# Create Random Data df\n",
    "lm_df=pd.DataFrame(index=list(range(0,501)))\n",
    "for i in list(range(0,10)):\n",
    "    lm_df[columns[i]]=data[i]\n",
    "lm_df.head()"
   ]
  },
  {
   "cell_type": "code",
   "execution_count": 18,
   "id": "a30a6656",
   "metadata": {},
   "outputs": [
    {
     "name": "stdout",
     "output_type": "stream",
     "text": [
      "<class 'pandas.core.frame.DataFrame'>\n",
      "Int64Index: 501 entries, 0 to 500\n",
      "Data columns (total 10 columns):\n",
      " #   Column     Non-Null Count  Dtype  \n",
      "---  ------     --------------  -----  \n",
      " 0   Column 1   501 non-null    int64  \n",
      " 1   Column 2   501 non-null    float64\n",
      " 2   Column 3   501 non-null    float64\n",
      " 3   Column 4   501 non-null    float64\n",
      " 4   Column 5   501 non-null    int64  \n",
      " 5   Column 6   501 non-null    int64  \n",
      " 6   Column 7   501 non-null    float64\n",
      " 7   Column 8   501 non-null    float64\n",
      " 8   Column 9   501 non-null    float64\n",
      " 9   Column 10  501 non-null    int64  \n",
      "dtypes: float64(6), int64(4)\n",
      "memory usage: 43.1 KB\n",
      "None\n",
      "          Column 1    Column 2    Column 3      Column 4    Column 5  \\\n",
      "count   501.000000  501.000000  501.000000    501.000000  501.000000   \n",
      "mean   4877.305389  483.233514    0.511160  26166.011073   44.792415   \n",
      "std    2947.854586  285.363486    0.297451  14619.856832   24.977126   \n",
      "min      10.000000    1.184865    0.003490     94.682514    0.000000   \n",
      "25%    2418.000000  233.119721    0.246294  13580.911095   23.000000   \n",
      "50%    4680.000000  474.925860    0.536010  26970.408306   46.000000   \n",
      "75%    7389.000000  733.514796    0.770289  39109.372122   65.000000   \n",
      "max    9965.000000  998.994994    0.991322  49902.171002   85.000000   \n",
      "\n",
      "          Column 6    Column 7    Column 8      Column 9   Column 10  \n",
      "count   501.000000  501.000000  501.000000    501.000000  501.000000  \n",
      "mean   4924.616766  481.903212    0.509282  24778.339128   51.123752  \n",
      "std    2846.358354  276.594582    0.282375  14749.937611   29.169653  \n",
      "min      22.000000    0.322506    0.001486     39.336032    1.000000  \n",
      "25%    2431.000000  238.198503    0.283949  11374.359714   26.000000  \n",
      "50%    4966.000000  485.485375    0.505938  23910.142121   52.000000  \n",
      "75%    7276.000000  702.885413    0.736888  37460.926894   78.000000  \n",
      "max    9986.000000  996.729045    0.998820  49919.997034   99.000000  \n"
     ]
    }
   ],
   "source": [
    "# check the data\n",
    "print(lm_df.info())\n",
    "\n",
    "print(lm_df.describe())"
   ]
  },
  {
   "cell_type": "code",
   "execution_count": 19,
   "id": "ab129725",
   "metadata": {},
   "outputs": [],
   "source": [
    "# split data into features and target df's\n",
    "X = lm_df.drop('Column 10', axis=1).copy()\n",
    "y=lm_df['Column 10']\n",
    "X_train, X_test, y_train, y_test = train_test_split(X, y, random_state=5)"
   ]
  },
  {
   "cell_type": "code",
   "execution_count": 20,
   "id": "47d1ff6a",
   "metadata": {},
   "outputs": [],
   "source": [
    "# Scale the Data with minmaxscaler\n",
    "lm_scaler = MinMaxScaler()\n",
    "lm_scaler.fit(X_train)\n",
    "X_train_scaled = lm_scaler.transform(X_train)\n",
    "X_test_scaled = lm_scaler.transform(X_test)"
   ]
  },
  {
   "cell_type": "code",
   "execution_count": 21,
   "id": "9dd2edbc",
   "metadata": {},
   "outputs": [
    {
     "name": "stderr",
     "output_type": "stream",
     "text": [
      "C:\\Users\\Michael\\anaconda3\\envs\\mlenv\\lib\\site-packages\\statsmodels\\tsa\\tsatools.py:142: FutureWarning: In a future version of pandas all arguments of concat except for the argument 'objs' will be keyword-only\n",
      "  x = pd.concat(x[::order], 1)\n"
     ]
    },
    {
     "data": {
      "text/html": [
       "<table class=\"simpletable\">\n",
       "<caption>OLS Regression Results</caption>\n",
       "<tr>\n",
       "  <th>Dep. Variable:</th>        <td>Column 10</td>    <th>  R-squared:         </th> <td>   0.046</td>\n",
       "</tr>\n",
       "<tr>\n",
       "  <th>Model:</th>                   <td>OLS</td>       <th>  Adj. R-squared:    </th> <td>   0.022</td>\n",
       "</tr>\n",
       "<tr>\n",
       "  <th>Method:</th>             <td>Least Squares</td>  <th>  F-statistic:       </th> <td>   1.945</td>\n",
       "</tr>\n",
       "<tr>\n",
       "  <th>Date:</th>             <td>Sun, 15 May 2022</td> <th>  Prob (F-statistic):</th>  <td>0.0448</td> \n",
       "</tr>\n",
       "<tr>\n",
       "  <th>Time:</th>                 <td>14:35:05</td>     <th>  Log-Likelihood:    </th> <td> -1781.0</td>\n",
       "</tr>\n",
       "<tr>\n",
       "  <th>No. Observations:</th>      <td>   375</td>      <th>  AIC:               </th> <td>   3582.</td>\n",
       "</tr>\n",
       "<tr>\n",
       "  <th>Df Residuals:</th>          <td>   365</td>      <th>  BIC:               </th> <td>   3621.</td>\n",
       "</tr>\n",
       "<tr>\n",
       "  <th>Df Model:</th>              <td>     9</td>      <th>                     </th>     <td> </td>   \n",
       "</tr>\n",
       "<tr>\n",
       "  <th>Covariance Type:</th>      <td>nonrobust</td>    <th>                     </th>     <td> </td>   \n",
       "</tr>\n",
       "</table>\n",
       "<table class=\"simpletable\">\n",
       "<tr>\n",
       "      <td></td>        <th>coef</th>     <th>std err</th>      <th>t</th>      <th>P>|t|</th>  <th>[0.025</th>    <th>0.975]</th>  \n",
       "</tr>\n",
       "<tr>\n",
       "  <th>const</th>    <td>   52.1186</td> <td>    7.697</td> <td>    6.771</td> <td> 0.000</td> <td>   36.983</td> <td>   67.255</td>\n",
       "</tr>\n",
       "<tr>\n",
       "  <th>Column 1</th> <td>-3.589e-05</td> <td>    0.001</td> <td>   -0.071</td> <td> 0.943</td> <td>   -0.001</td> <td>    0.001</td>\n",
       "</tr>\n",
       "<tr>\n",
       "  <th>Column 2</th> <td>   -0.0095</td> <td>    0.005</td> <td>   -1.859</td> <td> 0.064</td> <td>   -0.020</td> <td>    0.001</td>\n",
       "</tr>\n",
       "<tr>\n",
       "  <th>Column 3</th> <td>    3.0637</td> <td>    5.003</td> <td>    0.612</td> <td> 0.541</td> <td>   -6.775</td> <td>   12.903</td>\n",
       "</tr>\n",
       "<tr>\n",
       "  <th>Column 4</th> <td>    0.0001</td> <td>    0.000</td> <td>    1.109</td> <td> 0.268</td> <td>-8.72e-05</td> <td>    0.000</td>\n",
       "</tr>\n",
       "<tr>\n",
       "  <th>Column 5</th> <td>    0.0714</td> <td>    0.058</td> <td>    1.238</td> <td> 0.216</td> <td>   -0.042</td> <td>    0.185</td>\n",
       "</tr>\n",
       "<tr>\n",
       "  <th>Column 6</th> <td>   -0.0006</td> <td>    0.001</td> <td>   -1.230</td> <td> 0.219</td> <td>   -0.002</td> <td>    0.000</td>\n",
       "</tr>\n",
       "<tr>\n",
       "  <th>Column 7</th> <td>    0.0110</td> <td>    0.005</td> <td>    2.078</td> <td> 0.038</td> <td>    0.001</td> <td>    0.021</td>\n",
       "</tr>\n",
       "<tr>\n",
       "  <th>Column 8</th> <td>   -9.8318</td> <td>    5.297</td> <td>   -1.856</td> <td> 0.064</td> <td>  -20.248</td> <td>    0.584</td>\n",
       "</tr>\n",
       "<tr>\n",
       "  <th>Column 9</th> <td>-8.326e-05</td> <td> 9.88e-05</td> <td>   -0.843</td> <td> 0.400</td> <td>   -0.000</td> <td>    0.000</td>\n",
       "</tr>\n",
       "</table>\n",
       "<table class=\"simpletable\">\n",
       "<tr>\n",
       "  <th>Omnibus:</th>       <td>88.296</td> <th>  Durbin-Watson:     </th> <td>   2.039</td>\n",
       "</tr>\n",
       "<tr>\n",
       "  <th>Prob(Omnibus):</th> <td> 0.000</td> <th>  Jarque-Bera (JB):  </th> <td>  17.015</td>\n",
       "</tr>\n",
       "<tr>\n",
       "  <th>Skew:</th>          <td> 0.037</td> <th>  Prob(JB):          </th> <td>0.000202</td>\n",
       "</tr>\n",
       "<tr>\n",
       "  <th>Kurtosis:</th>      <td> 1.959</td> <th>  Cond. No.          </th> <td>2.20e+05</td>\n",
       "</tr>\n",
       "</table><br/><br/>Notes:<br/>[1] Standard Errors assume that the covariance matrix of the errors is correctly specified.<br/>[2] The condition number is large, 2.2e+05. This might indicate that there are<br/>strong multicollinearity or other numerical problems."
      ],
      "text/plain": [
       "<class 'statsmodels.iolib.summary.Summary'>\n",
       "\"\"\"\n",
       "                            OLS Regression Results                            \n",
       "==============================================================================\n",
       "Dep. Variable:              Column 10   R-squared:                       0.046\n",
       "Model:                            OLS   Adj. R-squared:                  0.022\n",
       "Method:                 Least Squares   F-statistic:                     1.945\n",
       "Date:                Sun, 15 May 2022   Prob (F-statistic):             0.0448\n",
       "Time:                        14:35:05   Log-Likelihood:                -1781.0\n",
       "No. Observations:                 375   AIC:                             3582.\n",
       "Df Residuals:                     365   BIC:                             3621.\n",
       "Df Model:                           9                                         \n",
       "Covariance Type:            nonrobust                                         \n",
       "==============================================================================\n",
       "                 coef    std err          t      P>|t|      [0.025      0.975]\n",
       "------------------------------------------------------------------------------\n",
       "const         52.1186      7.697      6.771      0.000      36.983      67.255\n",
       "Column 1   -3.589e-05      0.001     -0.071      0.943      -0.001       0.001\n",
       "Column 2      -0.0095      0.005     -1.859      0.064      -0.020       0.001\n",
       "Column 3       3.0637      5.003      0.612      0.541      -6.775      12.903\n",
       "Column 4       0.0001      0.000      1.109      0.268   -8.72e-05       0.000\n",
       "Column 5       0.0714      0.058      1.238      0.216      -0.042       0.185\n",
       "Column 6      -0.0006      0.001     -1.230      0.219      -0.002       0.000\n",
       "Column 7       0.0110      0.005      2.078      0.038       0.001       0.021\n",
       "Column 8      -9.8318      5.297     -1.856      0.064     -20.248       0.584\n",
       "Column 9   -8.326e-05   9.88e-05     -0.843      0.400      -0.000       0.000\n",
       "==============================================================================\n",
       "Omnibus:                       88.296   Durbin-Watson:                   2.039\n",
       "Prob(Omnibus):                  0.000   Jarque-Bera (JB):               17.015\n",
       "Skew:                           0.037   Prob(JB):                     0.000202\n",
       "Kurtosis:                       1.959   Cond. No.                     2.20e+05\n",
       "==============================================================================\n",
       "\n",
       "Notes:\n",
       "[1] Standard Errors assume that the covariance matrix of the errors is correctly specified.\n",
       "[2] The condition number is large, 2.2e+05. This might indicate that there are\n",
       "strong multicollinearity or other numerical problems.\n",
       "\"\"\""
      ]
     },
     "execution_count": 21,
     "metadata": {},
     "output_type": "execute_result"
    }
   ],
   "source": [
    "# build the model\n",
    "X_train_lm = sm.add_constant(X_train)\n",
    "lm_1 = sm.OLS(y_train, X_train_lm).fit()\n",
    "lm_1.summary()"
   ]
  },
  {
   "cell_type": "code",
   "execution_count": 22,
   "id": "64053074",
   "metadata": {},
   "outputs": [
    {
     "data": {
      "text/html": [
       "<div>\n",
       "<style scoped>\n",
       "    .dataframe tbody tr th:only-of-type {\n",
       "        vertical-align: middle;\n",
       "    }\n",
       "\n",
       "    .dataframe tbody tr th {\n",
       "        vertical-align: top;\n",
       "    }\n",
       "\n",
       "    .dataframe thead th {\n",
       "        text-align: right;\n",
       "    }\n",
       "</style>\n",
       "<table border=\"1\" class=\"dataframe\">\n",
       "  <thead>\n",
       "    <tr style=\"text-align: right;\">\n",
       "      <th></th>\n",
       "      <th>Features</th>\n",
       "      <th>VIF</th>\n",
       "    </tr>\n",
       "  </thead>\n",
       "  <tbody>\n",
       "    <tr>\n",
       "      <th>7</th>\n",
       "      <td>Column 8</td>\n",
       "      <td>3.81</td>\n",
       "    </tr>\n",
       "    <tr>\n",
       "      <th>6</th>\n",
       "      <td>Column 7</td>\n",
       "      <td>3.65</td>\n",
       "    </tr>\n",
       "    <tr>\n",
       "      <th>5</th>\n",
       "      <td>Column 6</td>\n",
       "      <td>3.61</td>\n",
       "    </tr>\n",
       "    <tr>\n",
       "      <th>3</th>\n",
       "      <td>Column 4</td>\n",
       "      <td>3.58</td>\n",
       "    </tr>\n",
       "    <tr>\n",
       "      <th>1</th>\n",
       "      <td>Column 2</td>\n",
       "      <td>3.57</td>\n",
       "    </tr>\n",
       "    <tr>\n",
       "      <th>8</th>\n",
       "      <td>Column 9</td>\n",
       "      <td>3.50</td>\n",
       "    </tr>\n",
       "    <tr>\n",
       "      <th>2</th>\n",
       "      <td>Column 3</td>\n",
       "      <td>3.49</td>\n",
       "    </tr>\n",
       "    <tr>\n",
       "      <th>4</th>\n",
       "      <td>Column 5</td>\n",
       "      <td>3.46</td>\n",
       "    </tr>\n",
       "    <tr>\n",
       "      <th>0</th>\n",
       "      <td>Column 1</td>\n",
       "      <td>3.42</td>\n",
       "    </tr>\n",
       "  </tbody>\n",
       "</table>\n",
       "</div>"
      ],
      "text/plain": [
       "   Features   VIF\n",
       "7  Column 8  3.81\n",
       "6  Column 7  3.65\n",
       "5  Column 6  3.61\n",
       "3  Column 4  3.58\n",
       "1  Column 2  3.57\n",
       "8  Column 9  3.50\n",
       "2  Column 3  3.49\n",
       "4  Column 5  3.46\n",
       "0  Column 1  3.42"
      ]
     },
     "execution_count": 22,
     "metadata": {},
     "output_type": "execute_result"
    }
   ],
   "source": [
    "# checking variance inflaction factor\n",
    "vif = pd.DataFrame()\n",
    "vif['Features'] = X_train.columns\n",
    "vif['VIF'] = [variance_inflation_factor(X_train.values, i) for i in range(X_train.shape[1])]\n",
    "vif['VIF'] = round(vif['VIF'], 2)\n",
    "vif = vif.sort_values(by='VIF', ascending=False)\n",
    "vif"
   ]
  },
  {
   "cell_type": "code",
   "execution_count": 30,
   "id": "ef5ce6a8",
   "metadata": {},
   "outputs": [
    {
     "name": "stderr",
     "output_type": "stream",
     "text": [
      "C:\\Users\\Michael\\anaconda3\\envs\\mlenv\\lib\\site-packages\\seaborn\\distributions.py:2619: FutureWarning: `distplot` is a deprecated function and will be removed in a future version. Please adapt your code to use either `displot` (a figure-level function with similar flexibility) or `histplot` (an axes-level function for histograms).\n",
      "  warnings.warn(msg, FutureWarning)\n"
     ]
    },
    {
     "data": {
      "text/plain": [
       "Text(0.5, 0, 'Errors')"
      ]
     },
     "execution_count": 30,
     "metadata": {},
     "output_type": "execute_result"
    },
    {
     "data": {
      "image/png": "[encoded data removed]",
      "text/plain": [
       "<Figure size 432x288 with 1 Axes>"
      ]
     },
     "metadata": {
      "needs_background": "light"
     },
     "output_type": "display_data"
    }
   ],
   "source": [
    "# Residual Analysis\n",
    "predictions = lm_1.predict(X_train_lm)\n",
    "fig = plt.figure()\n",
    "sns.distplot((y_train - predictions), bins = 10)\n",
    "fig.suptitle('Error Terms', fontsize = 15)\n",
    "plt.xlabel('Errors', fontsize=13)"
   ]
  },
  {
   "cell_type": "code",
   "execution_count": 35,
   "id": "8ff656a0",
   "metadata": {},
   "outputs": [
    {
     "data": {
      "text/plain": [
       "-0.04359136205926162"
      ]
     },
     "execution_count": 35,
     "metadata": {},
     "output_type": "execute_result"
    }
   ],
   "source": [
    "# determine if the final predicted model is the best fitted line\n",
    "# make test predictions\n",
    "X_test_lm = sm.add_constant(X_test)\n",
    "test_predictions = lm_1.predict(X_test_lm)\n",
    "r2_score(y_true=y_test, y_pred=test_predictions)"
   ]
  },
  {
   "cell_type": "markdown",
   "id": "a0f26fd6",
   "metadata": {},
   "source": [
    "# Practice with Recursive Feature Elimination\n"
   ]
  },
  {
   "cell_type": "code",
   "execution_count": 40,
   "id": "4ba3f756",
   "metadata": {},
   "outputs": [
    {
     "name": "stderr",
     "output_type": "stream",
     "text": [
      "C:\\Users\\Michael\\anaconda3\\envs\\mlenv\\lib\\site-packages\\sklearn\\utils\\validation.py:72: FutureWarning: Pass n_features_to_select=5 as keyword args. From version 1.0 (renaming of 0.25) passing these as positional arguments will result in an error\n",
      "  \"will result in an error\", FutureWarning)\n"
     ]
    },
    {
     "data": {
      "text/plain": [
       "[(array([0.38973997, 0.32119995, 0.02029226, 0.97995608, 0.96470588,\n",
       "         0.97638191, 0.48600966, 0.23431203, 0.9395235 ]),\n",
       "  False,\n",
       "  5),\n",
       " (array([0.03527515, 0.41830766, 0.57467588, 0.98286959, 0.68235294,\n",
       "         0.90884422, 0.25274127, 0.64228625, 0.43141161]),\n",
       "  True,\n",
       "  1),\n",
       " (array([0.41705301, 0.11911147, 0.95723471, 0.09713009, 0.82352941,\n",
       "         0.74      , 0.29921411, 0.5599045 , 1.        ]),\n",
       "  False,\n",
       "  4),\n",
       " (array([0.64654304, 0.06882545, 0.17825274, 0.39201752, 0.51764706,\n",
       "         0.63728643, 0.22742519, 0.24250459, 0.36375393]),\n",
       "  False,\n",
       "  2),\n",
       " (array([0.63465027, 0.02832342, 0.25944335, 0.57578605, 0.90588235,\n",
       "         0.07939698, 0.48689118, 0.88560448, 0.76276128]),\n",
       "  True,\n",
       "  1),\n",
       " (array([0.46845394, 0.41813186, 0.10213731, 0.35334814, 0.51764706,\n",
       "         0.78271357, 0.1834438 , 0.19789023, 0.16190474]),\n",
       "  True,\n",
       "  1),\n",
       " (array([0.10965531, 0.48368587, 0.90882349, 0.71365889, 0.84705882,\n",
       "         0.87939698, 0.60066489, 0.83127407, 0.71302264]),\n",
       "  True,\n",
       "  1),\n",
       " (array([0.53436807, 0.39793878, 0.91939641, 0.67022021, 0.09411765,\n",
       "         0.0920603 , 0.55599869, 0.76615546, 0.85179304]),\n",
       "  True,\n",
       "  1),\n",
       " (array([0.43962911, 0.90802592, 0.50289253, 0.08165519, 0.4       ,\n",
       "         0.41658291, 0.28046738, 0.05449555, 0.54259372]),\n",
       "  False,\n",
       "  3)]"
      ]
     },
     "execution_count": 40,
     "metadata": {},
     "output_type": "execute_result"
    }
   ],
   "source": [
    "# instantiate the linear model and fit with the data\n",
    "lm_2 = LinearRegression()\n",
    "lm_2.fit(X_train_scaled, y_train)\n",
    "# instantiate the recursive feature elimination\n",
    "rfe = RFE(lm_2, 5)\n",
    "rfe=rfe.fit(X_train_scaled, y_train)\n",
    "\n",
    "list(zip(X_train_scaled, rfe.support_, rfe.ranking_))"
   ]
  },
  {
   "cell_type": "code",
   "execution_count": null,
   "id": "e5ac3e46",
   "metadata": {},
   "outputs": [],
   "source": []
  },
  {
   "cell_type": "code",
   "execution_count": null,
   "id": "7bea12aa",
   "metadata": {},
   "outputs": [],
   "source": []
  }
 ],
 "metadata": {
  "kernelspec": {
   "display_name": "mlenv",
   "language": "python",
   "name": "mlenv"
  },
  "language_info": {
   "codemirror_mode": {
    "name": "ipython",
    "version": 3
   },
   "file_extension": ".py",
   "mimetype": "text/x-python",
   "name": "python",
   "nbconvert_exporter": "python",
   "pygments_lexer": "ipython3",
   "version": "3.7.11"
  }
 },
 "nbformat": 4,
 "nbformat_minor": 5
}
