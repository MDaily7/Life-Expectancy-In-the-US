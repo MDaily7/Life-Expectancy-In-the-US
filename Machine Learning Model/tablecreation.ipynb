{
 "cells": [
  {
   "cell_type": "code",
   "execution_count": 1,
   "id": "1980a98a",
   "metadata": {},
   "outputs": [],
   "source": [
    "# Import Dependencies\n",
    "import pandas as pd"
   ]
  },
  {
   "cell_type": "code",
   "execution_count": 9,
   "id": "746100ab",
   "metadata": {},
   "outputs": [],
   "source": [
    "# read data into df\n",
    "health_outcomes_df = pd.read_csv('../Health Rankings Data/Health Measures.csv', header=[0,1])\n",
    "additional_outcomes_df = pd.read_csv('../Health Rankings Data/Additional Health Measures.csv', low_memory=False, header=[0,1])"
   ]
  },
  {
   "cell_type": "code",
   "execution_count": 16,
   "id": "bc3237f4",
   "metadata": {},
   "outputs": [],
   "source": [
    "# make lists of the columns\n",
    "health_cols = list(health_outcomes_df.columns)\n",
    "additional_cols = list(additional_outcomes_df.columns)\n"
   ]
  },
  {
   "cell_type": "code",
   "execution_count": 57,
   "id": "6b3497cb",
   "metadata": {},
   "outputs": [],
   "source": [
    "# create county total cols list for health outcomes\n",
    "health_total_cols = [('State', 'State'), ('County', 'County'),('Premature death', 'Deaths'), ('Poor or fair health', '% Fair or Poor Health'), ('Poor physical health days', 'Average Number of Physically Unhealthy Days'),('Poor mental health days', 'Average Number of Mentally Unhealthy Days'), ('Low birthweight', '% Low birthweight'),('Adult smoking', '% Smokers'),('Adult obesity', '% Adults with Obesity'),('Food environment index', 'Food Environment Index'),('Physical inactivity', '% Physically Inactive'),('Access to exercise opportunities',\n",
    "  '% With Access to Exercise Opportunities'), ('Alcohol-impaired driving deaths', '# Alcohol-Impaired Driving Deaths'),('Sexually transmitted infections', '# Chlamydia Cases'),('Teen births', 'Teen Birth Rate'),('Uninsured', '# Uninsured'),('Primary care physicians', '# Primary Care Physicians'),('Dentists', '# Dentists'),('Mental health providers', '# Mental Health Providers'),('Preventable hospital stays', 'Preventable Hospitalization Rate'),('Mammography screening', '% With Annual Mammogram'),('Flu vaccinations', '% Vaccinated'),('High school completion', '# Completed High School'),('Some college', '# Some College'),('Unemployment', '# Unemployed'),('Children in poverty', '% Children in Poverty'),('Income inequality', '80th Percentile Income'),('Children in single-parent households',\n",
    "  '# Children in Single-Parent Households'),('Social associations', '# Associations'),('Violent crime', 'Annual Average Violent Crimes'),('Injury deaths', '# Injury Deaths'),('Air pollution - particulate matter', 'Average Daily PM2.5'),('Drinking water violations', 'Presence of Water Violation'),('Severe housing problems', '% Severe Housing Problems'),('Driving alone to work', '% Drive Alone to Work'),('Long commute - driving alone', '# Workers who Drive Alone')]"
   ]
  },
  {
   "cell_type": "code",
   "execution_count": 59,
   "id": "84016442",
   "metadata": {},
   "outputs": [],
   "source": [
    "# create county total cols for additional outcomes\n",
    "additional_total_cols=[('State', 'State'), ('County', 'County'),('Life expectancy', 'Life Expectancy'),('Premature age-adjusted mortality', '# Deaths'),('Child mortality', '# Deaths'),('Infant mortality', '# Deaths'),('Frequent physical distress', '% Frequent Physical Distress'),('Diabetes prevalence', '% Adults with Diabetes'),('HIV prevalence', '# HIV Cases'),('Food insecurity', '# Food Insecure'),('Limited access to healthy foods', '# Limited Access'),('Drug overdose deaths', '# Drug Overdose Deaths'),('Motor vehicle crash deaths', '# Motor Vehicle Deaths'),('Insufficient sleep', '% Insufficient Sleep'),('Uninsured adults', '# Uninsured'),('Other primary care providers', 'Other Primary Care Provider Rate'),('High school graduation', 'High School Graduation Rate'),('Disconnected youth', '% Disconnected Youth'),('Reading scores', 'Average Grade Performance'),('Math scores', 'Average Grade Performance'),('School segregation', 'Segregation index'),('School funding adequacy', 'Spending per-pupil'),('Gender pay gap', 'Gender Pay Gap'),('Median household income', 'Median Household Income'),('Children eligible for free or reduced price lunch',\n",
    "  '% Enrolled in Free or Reduced Lunch'),('Residential segregation - Black/white', 'Segregation index'),('Childcare cost burden',\n",
    "  '% household income required for childcare expenses'),('Childcare centers', '# childcare centers'), ('Homicides', 'Homicide Rate'),('Suicides', '# Deaths'),('Firearm fatalities', '# Firearm Fatalities'),('Juvenile arrests', 'Juvenile Arrest Rate'),('Traffic volume', 'Traffic Volume'),('Homeownership', '# Homeowners'),('Severe housing cost burden', '# Households with Severe Cost Burden'),('Broadband access', '% Broadband Access'),('Population', 'Population'),('% female', '% female'), ('% rural', '# rural residents') ]"
   ]
  },
  {
   "cell_type": "code",
   "execution_count": 63,
   "id": "8dcafea2",
   "metadata": {},
   "outputs": [],
   "source": [
    "# create totals dfs\n",
    "health_totals_df = health_outcomes_df[health_total_cols].copy()\n",
    "additional_totals_df = additional_outcomes_df[additional_total_cols].copy()\n"
   ]
  },
  {
   "cell_type": "code",
   "execution_count": 67,
   "id": "bd16355b",
   "metadata": {},
   "outputs": [],
   "source": [
    "# export dfs to csvs\n",
    "health_totals_df.to_csv('../Health Rankings Data/Health Measures Reduced.csv', index=False)\n",
    "additional_totals_df.to_csv('../Health Rankings Data/Additional Measures Reduced.csv', index=False)"
   ]
  },
  {
   "cell_type": "code",
   "execution_count": null,
   "id": "29377f32",
   "metadata": {},
   "outputs": [],
   "source": []
  },
  {
   "cell_type": "code",
   "execution_count": null,
   "id": "8ec4135b",
   "metadata": {},
   "outputs": [],
   "source": []
  },
  {
   "cell_type": "code",
   "execution_count": null,
   "id": "092a5a63",
   "metadata": {},
   "outputs": [],
   "source": []
  }
 ],
 "metadata": {
  "kernelspec": {
   "display_name": "PythonData",
   "language": "python",
   "name": "pythondata"
  },
  "language_info": {
   "codemirror_mode": {
    "name": "ipython",
    "version": 3
   },
   "file_extension": ".py",
   "mimetype": "text/x-python",
   "name": "python",
   "nbconvert_exporter": "python",
   "pygments_lexer": "ipython3",
   "version": "3.7.11"
  }
 },
 "nbformat": 4,
 "nbformat_minor": 5
}
