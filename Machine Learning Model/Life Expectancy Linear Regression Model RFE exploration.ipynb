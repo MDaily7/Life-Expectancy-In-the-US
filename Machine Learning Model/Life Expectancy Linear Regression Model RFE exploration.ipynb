{
 "cells": [
  {
   "cell_type": "code",
   "execution_count": 76,
   "id": "14a74fbd",
   "metadata": {},
   "outputs": [],
   "source": [
    "#Import Dependencies\n",
    "import pandas as pd\n",
    "import matplotlib.pyplot as plt\n",
    "from conn_dict import conn_dict\n",
    "import psycopg2\n",
    "from sqlalchemy import create_engine, inspect\n",
    "import seaborn as sns\n",
    "import numpy as np\n",
    "from sklearn.model_selection import train_test_split\n",
    "from sklearn.preprocessing import StandardScaler\n",
    "from sklearn.linear_model import LinearRegression\n",
    "from sklearn.metrics import r2_score, accuracy_score, classification_report, confusion_matrix, mean_absolute_error"
   ]
  },
  {
   "cell_type": "code",
   "execution_count": 2,
   "id": "1f4ba9b9",
   "metadata": {},
   "outputs": [],
   "source": [
    "# create variables from conn_dict\n",
    "locals().update(conn_dict)\n"
   ]
  },
  {
   "cell_type": "code",
   "execution_count": 3,
   "id": "3e6210e2",
   "metadata": {},
   "outputs": [],
   "source": [
    "# create the connection to the database \n",
    "engine = create_engine(f'postgresql://{username}:{db_pass}@{hostname}:{port_id}/{db}')\n",
    "\n",
    "\n"
   ]
  },
  {
   "cell_type": "code",
   "execution_count": 4,
   "id": "7baa8ae4",
   "metadata": {},
   "outputs": [
    {
     "data": {
      "text/plain": [
       "['Additional_Health_Measures_2',\n",
       " 'Health_Measures_3_State',\n",
       " 'Additional_Health_Measures_4_State',\n",
       " 'health_measures',\n",
       " 'additional_health_measures',\n",
       " 'all_health_measures_final',\n",
       " 'Health_Measures_1']"
      ]
     },
     "execution_count": 4,
     "metadata": {},
     "output_type": "execute_result"
    }
   ],
   "source": [
    "# look at the tables in the database\n",
    "inspector = inspect(engine)\n",
    "inspector.get_table_names()\n"
   ]
  },
  {
   "cell_type": "code",
   "execution_count": 5,
   "id": "fd273344",
   "metadata": {},
   "outputs": [
    {
     "data": {
      "text/html": [
       "<div>\n",
       "<style scoped>\n",
       "    .dataframe tbody tr th:only-of-type {\n",
       "        vertical-align: middle;\n",
       "    }\n",
       "\n",
       "    .dataframe tbody tr th {\n",
       "        vertical-align: top;\n",
       "    }\n",
       "\n",
       "    .dataframe thead th {\n",
       "        text-align: right;\n",
       "    }\n",
       "</style>\n",
       "<table border=\"1\" class=\"dataframe\">\n",
       "  <thead>\n",
       "    <tr style=\"text-align: right;\">\n",
       "      <th></th>\n",
       "      <th>State</th>\n",
       "      <th>County</th>\n",
       "      <th>State_County</th>\n",
       "      <th>Premature_death</th>\n",
       "      <th>Percentage_Fair_or_Poor_Health</th>\n",
       "      <th>Average_Number_of_Physically_Unhealthy_Days</th>\n",
       "      <th>Average_Number_of_Mentally_Unhealthy_Days</th>\n",
       "      <th>Percentage_Low_birthweight</th>\n",
       "      <th>Percentage_Smokers</th>\n",
       "      <th>Percentage_Adults_with_Obesity</th>\n",
       "      <th>...</th>\n",
       "      <th>Suicides</th>\n",
       "      <th>Firearm_fatalities</th>\n",
       "      <th>Juvenile_Arrest_Rate</th>\n",
       "      <th>Traffic_Volume</th>\n",
       "      <th>Homeowners</th>\n",
       "      <th>Severe_housing_cost_burden</th>\n",
       "      <th>percentage_Broadband_Access</th>\n",
       "      <th>Population</th>\n",
       "      <th>percentage_female</th>\n",
       "      <th>rural_residents</th>\n",
       "    </tr>\n",
       "  </thead>\n",
       "  <tbody>\n",
       "    <tr>\n",
       "      <th>0</th>\n",
       "      <td>Alabama</td>\n",
       "      <td>Autauga</td>\n",
       "      <td>Alabama_Autauga</td>\n",
       "      <td>836</td>\n",
       "      <td>20</td>\n",
       "      <td>4.5</td>\n",
       "      <td>5.4</td>\n",
       "      <td>10</td>\n",
       "      <td>20</td>\n",
       "      <td>35</td>\n",
       "      <td>...</td>\n",
       "      <td>52</td>\n",
       "      <td>49</td>\n",
       "      <td>8</td>\n",
       "      <td>155</td>\n",
       "      <td>16088</td>\n",
       "      <td>2862</td>\n",
       "      <td>83</td>\n",
       "      <td>56145</td>\n",
       "      <td>51.5</td>\n",
       "      <td>22921</td>\n",
       "    </tr>\n",
       "    <tr>\n",
       "      <th>1</th>\n",
       "      <td>Alabama</td>\n",
       "      <td>Baldwin</td>\n",
       "      <td>Alabama_Baldwin</td>\n",
       "      <td>3377</td>\n",
       "      <td>17</td>\n",
       "      <td>4.2</td>\n",
       "      <td>5.2</td>\n",
       "      <td>8</td>\n",
       "      <td>20</td>\n",
       "      <td>30</td>\n",
       "      <td>...</td>\n",
       "      <td>214</td>\n",
       "      <td>153</td>\n",
       "      <td>26</td>\n",
       "      <td>134</td>\n",
       "      <td>64716</td>\n",
       "      <td>9296</td>\n",
       "      <td>85</td>\n",
       "      <td>229287</td>\n",
       "      <td>51.6</td>\n",
       "      <td>77060</td>\n",
       "    </tr>\n",
       "    <tr>\n",
       "      <th>2</th>\n",
       "      <td>Alabama</td>\n",
       "      <td>Barbour</td>\n",
       "      <td>Alabama_Barbour</td>\n",
       "      <td>539</td>\n",
       "      <td>31</td>\n",
       "      <td>5.9</td>\n",
       "      <td>6.1</td>\n",
       "      <td>12</td>\n",
       "      <td>28</td>\n",
       "      <td>40</td>\n",
       "      <td>...</td>\n",
       "      <td>20</td>\n",
       "      <td>32</td>\n",
       "      <td>24</td>\n",
       "      <td>102</td>\n",
       "      <td>5775</td>\n",
       "      <td>1055</td>\n",
       "      <td>65</td>\n",
       "      <td>24589</td>\n",
       "      <td>47.2</td>\n",
       "      <td>18613</td>\n",
       "    </tr>\n",
       "    <tr>\n",
       "      <th>3</th>\n",
       "      <td>Alabama</td>\n",
       "      <td>Bibb</td>\n",
       "      <td>Alabama_Bibb</td>\n",
       "      <td>460</td>\n",
       "      <td>25</td>\n",
       "      <td>5.2</td>\n",
       "      <td>5.8</td>\n",
       "      <td>10</td>\n",
       "      <td>25</td>\n",
       "      <td>41</td>\n",
       "      <td>...</td>\n",
       "      <td>18</td>\n",
       "      <td>20</td>\n",
       "      <td>24.62576375</td>\n",
       "      <td>27</td>\n",
       "      <td>5428</td>\n",
       "      <td>650</td>\n",
       "      <td>76</td>\n",
       "      <td>22136</td>\n",
       "      <td>46.8</td>\n",
       "      <td>15663</td>\n",
       "    </tr>\n",
       "    <tr>\n",
       "      <th>4</th>\n",
       "      <td>Alabama</td>\n",
       "      <td>Blount</td>\n",
       "      <td>Alabama_Blount</td>\n",
       "      <td>1143</td>\n",
       "      <td>23</td>\n",
       "      <td>4.9</td>\n",
       "      <td>5.7</td>\n",
       "      <td>8</td>\n",
       "      <td>22</td>\n",
       "      <td>39</td>\n",
       "      <td>...</td>\n",
       "      <td>61</td>\n",
       "      <td>59</td>\n",
       "      <td>6</td>\n",
       "      <td>43</td>\n",
       "      <td>16132</td>\n",
       "      <td>1722</td>\n",
       "      <td>80</td>\n",
       "      <td>57879</td>\n",
       "      <td>50.6</td>\n",
       "      <td>51562</td>\n",
       "    </tr>\n",
       "  </tbody>\n",
       "</table>\n",
       "<p>5 rows × 73 columns</p>\n",
       "</div>"
      ],
      "text/plain": [
       "     State   County     State_County Premature_death  \\\n",
       "0  Alabama  Autauga  Alabama_Autauga             836   \n",
       "1  Alabama  Baldwin  Alabama_Baldwin            3377   \n",
       "2  Alabama  Barbour  Alabama_Barbour             539   \n",
       "3  Alabama     Bibb     Alabama_Bibb             460   \n",
       "4  Alabama   Blount   Alabama_Blount            1143   \n",
       "\n",
       "  Percentage_Fair_or_Poor_Health Average_Number_of_Physically_Unhealthy_Days  \\\n",
       "0                             20                                         4.5   \n",
       "1                             17                                         4.2   \n",
       "2                             31                                         5.9   \n",
       "3                             25                                         5.2   \n",
       "4                             23                                         4.9   \n",
       "\n",
       "  Average_Number_of_Mentally_Unhealthy_Days Percentage_Low_birthweight  \\\n",
       "0                                       5.4                         10   \n",
       "1                                       5.2                          8   \n",
       "2                                       6.1                         12   \n",
       "3                                       5.8                         10   \n",
       "4                                       5.7                          8   \n",
       "\n",
       "  Percentage_Smokers Percentage_Adults_with_Obesity  ... Suicides  \\\n",
       "0                 20                             35  ...       52   \n",
       "1                 20                             30  ...      214   \n",
       "2                 28                             40  ...       20   \n",
       "3                 25                             41  ...       18   \n",
       "4                 22                             39  ...       61   \n",
       "\n",
       "  Firearm_fatalities Juvenile_Arrest_Rate Traffic_Volume Homeowners  \\\n",
       "0                 49                    8            155      16088   \n",
       "1                153                   26            134      64716   \n",
       "2                 32                   24            102       5775   \n",
       "3                 20          24.62576375             27       5428   \n",
       "4                 59                    6             43      16132   \n",
       "\n",
       "  Severe_housing_cost_burden percentage_Broadband_Access Population  \\\n",
       "0                       2862                          83      56145   \n",
       "1                       9296                          85     229287   \n",
       "2                       1055                          65      24589   \n",
       "3                        650                          76      22136   \n",
       "4                       1722                          80      57879   \n",
       "\n",
       "  percentage_female rural_residents  \n",
       "0              51.5           22921  \n",
       "1              51.6           77060  \n",
       "2              47.2           18613  \n",
       "3              46.8           15663  \n",
       "4              50.6           51562  \n",
       "\n",
       "[5 rows x 73 columns]"
      ]
     },
     "execution_count": 5,
     "metadata": {},
     "output_type": "execute_result"
    }
   ],
   "source": [
    "health_measures_df = pd.read_sql('SELECT * FROM public.\"all_health_measures_final\"', engine)\n",
    "health_measures_df.head()"
   ]
  },
  {
   "cell_type": "code",
   "execution_count": 6,
   "id": "6edea465",
   "metadata": {},
   "outputs": [
    {
     "name": "stdout",
     "output_type": "stream",
     "text": [
      "<class 'pandas.core.frame.DataFrame'>\n",
      "RangeIndex: 3142 entries, 0 to 3141\n",
      "Data columns (total 73 columns):\n",
      " #   Column                                                           Non-Null Count  Dtype \n",
      "---  ------                                                           --------------  ----- \n",
      " 0   State                                                            3142 non-null   object\n",
      " 1   County                                                           3142 non-null   object\n",
      " 2   State_County                                                     3142 non-null   object\n",
      " 3   Premature_death                                                  3142 non-null   object\n",
      " 4   Percentage_Fair_or_Poor_Health                                   3142 non-null   object\n",
      " 5   Average_Number_of_Physically_Unhealthy_Days                      3142 non-null   object\n",
      " 6   Average_Number_of_Mentally_Unhealthy_Days                        3142 non-null   object\n",
      " 7   Percentage_Low_birthweight                                       3142 non-null   object\n",
      " 8   Percentage_Smokers                                               3142 non-null   object\n",
      " 9   Percentage_Adults_with_Obesity                                   3142 non-null   object\n",
      " 10  Food_Environment_Index                                           3142 non-null   object\n",
      " 11  Percentage_Physically_Inactive                                   3142 non-null   object\n",
      " 12  Percentage_With_Access_to_Exercise_Opportunities                 3142 non-null   object\n",
      " 13  Alcohol_impaired_driving_deaths                                  3142 non-null   object\n",
      " 14  Sexually_transmitted_infections_Chlamydia_Cases                  3142 non-null   object\n",
      " 15  Teen_Birth_Rate                                                  3142 non-null   object\n",
      " 16  Uninsured                                                        3142 non-null   object\n",
      " 17  Primary_care_physicians                                          3142 non-null   object\n",
      " 18  Dentists                                                         3142 non-null   object\n",
      " 19  Mental_health_providers                                          3142 non-null   object\n",
      " 20  Preventable_Hospitalization_Rate                                 3142 non-null   object\n",
      " 21  Percentage_With_Annual_Mammogram                                 3142 non-null   object\n",
      " 22  Percentage_Vaccinated                                            3142 non-null   object\n",
      " 23  High_school_completion                                           3142 non-null   object\n",
      " 24  Some_college                                                     3142 non-null   object\n",
      " 25  Unemployment                                                     3142 non-null   object\n",
      " 26  Percentage_Children_in_Poverty                                   3142 non-null   object\n",
      " 27  Income_inequality_80th_Percentile_Income                         3142 non-null   object\n",
      " 28  Children_in_single-parent_households                             3142 non-null   object\n",
      " 29  Social_associations                                              3142 non-null   object\n",
      " 30  Annual_Average_Violent_Crimes                                    3142 non-null   object\n",
      " 31  Injury_deaths                                                    3142 non-null   object\n",
      " 32  Air_pollution_particulate_matter_Average_Daily_PM                3142 non-null   object\n",
      " 33  Percentage_Severe_Housing_Problems                               3142 non-null   object\n",
      " 34  Percentage_Drive_Alone_to_Work                                   3142 non-null   object\n",
      " 35  Workers_Drive_Alone_to_Work                                      3142 non-null   object\n",
      " 36  Life_expectancy                                                  3142 non-null   object\n",
      " 37  Deaths_Premature_age_adjusted_mortality                          3142 non-null   object\n",
      " 38  Child_mortality_deaths                                           3142 non-null   object\n",
      " 39  Infant_mortality_deaths                                          3142 non-null   object\n",
      " 40  percentage_Frequent_Physical_Distress                            3142 non-null   object\n",
      " 41  percentage_Adults_with_Diabetes                                  3142 non-null   object\n",
      " 42  HIV_Cases                                                        3142 non-null   object\n",
      " 43  Food_insecurity                                                  3142 non-null   object\n",
      " 44  Limited_access_to_healthy_foods                                  3142 non-null   object\n",
      " 45  Drug_overdose_deaths                                             3142 non-null   object\n",
      " 46  Motor_vehicle_crash_deaths                                       3142 non-null   object\n",
      " 47  percentage_Insufficient_Sleep                                    3142 non-null   object\n",
      " 48  Uninsured_adults                                                 3142 non-null   object\n",
      " 49  Other_Primary_Care_Provider_Rate                                 3142 non-null   object\n",
      " 50  High_School_Graduation_Rate                                      3142 non-null   object\n",
      " 51  percentage_Disconnected_Youth                                    3142 non-null   object\n",
      " 52  Average_Grade_Performance_Reading_scores                         3142 non-null   object\n",
      " 53  Average_Grade_Performance_Math_scores                            3142 non-null   object\n",
      " 54  Segregation_index_School_segregation                             3142 non-null   object\n",
      " 55  Spending_perpupil_School_funding_adequacy                        3142 non-null   object\n",
      " 56  Gender_pay_gap                                                   3142 non-null   object\n",
      " 57  Median_household_income                                          3142 non-null   object\n",
      " 58  percentage_Enrolled_in_Free_or_Reduced_Lunch_Children_eligible_  3142 non-null   object\n",
      " 59  Segregation_index_Residential_segregation_Black_and_white        3142 non-null   object\n",
      " 60  percentage_household_income_required_for_childcare_expenses_Chi  3142 non-null   object\n",
      " 61  Childcare_centers                                                3142 non-null   object\n",
      " 62  Homicide_Rate                                                    3142 non-null   object\n",
      " 63  Suicides                                                         3142 non-null   object\n",
      " 64  Firearm_fatalities                                               3142 non-null   object\n",
      " 65  Juvenile_Arrest_Rate                                             3142 non-null   object\n",
      " 66  Traffic_Volume                                                   3142 non-null   object\n",
      " 67  Homeowners                                                       3142 non-null   object\n",
      " 68  Severe_housing_cost_burden                                       3142 non-null   object\n",
      " 69  percentage_Broadband_Access                                      3142 non-null   object\n",
      " 70  Population                                                       3142 non-null   object\n",
      " 71  percentage_female                                                3142 non-null   object\n",
      " 72  rural_residents                                                  3142 non-null   object\n",
      "dtypes: object(73)\n",
      "memory usage: 1.8+ MB\n",
      "The df has 3142 rows and 73 columns, None\n"
     ]
    }
   ],
   "source": [
    "# investigate df\n",
    "shape = health_measures_df.shape\n",
    "info = health_measures_df.info()\n",
    "print(f'The df has {shape[0]} rows and {shape[1]} columns, {info}')"
   ]
  },
  {
   "cell_type": "code",
   "execution_count": 7,
   "id": "6215bd92",
   "metadata": {},
   "outputs": [],
   "source": [
    "# Remove String columns\n",
    "health_measures_df.drop(['State', 'County', 'State_County'], axis=1, inplace=True)"
   ]
  },
  {
   "cell_type": "code",
   "execution_count": 8,
   "id": "1f4bc0b2",
   "metadata": {},
   "outputs": [
    {
     "data": {
      "text/html": [
       "<div>\n",
       "<style scoped>\n",
       "    .dataframe tbody tr th:only-of-type {\n",
       "        vertical-align: middle;\n",
       "    }\n",
       "\n",
       "    .dataframe tbody tr th {\n",
       "        vertical-align: top;\n",
       "    }\n",
       "\n",
       "    .dataframe thead th {\n",
       "        text-align: right;\n",
       "    }\n",
       "</style>\n",
       "<table border=\"1\" class=\"dataframe\">\n",
       "  <thead>\n",
       "    <tr style=\"text-align: right;\">\n",
       "      <th></th>\n",
       "      <th>Premature_death</th>\n",
       "      <th>Percentage_Fair_or_Poor_Health</th>\n",
       "      <th>Average_Number_of_Physically_Unhealthy_Days</th>\n",
       "      <th>Average_Number_of_Mentally_Unhealthy_Days</th>\n",
       "      <th>Percentage_Low_birthweight</th>\n",
       "      <th>Percentage_Smokers</th>\n",
       "      <th>Percentage_Adults_with_Obesity</th>\n",
       "      <th>Food_Environment_Index</th>\n",
       "      <th>Percentage_Physically_Inactive</th>\n",
       "      <th>Percentage_With_Access_to_Exercise_Opportunities</th>\n",
       "      <th>...</th>\n",
       "      <th>Suicides</th>\n",
       "      <th>Firearm_fatalities</th>\n",
       "      <th>Juvenile_Arrest_Rate</th>\n",
       "      <th>Traffic_Volume</th>\n",
       "      <th>Homeowners</th>\n",
       "      <th>Severe_housing_cost_burden</th>\n",
       "      <th>percentage_Broadband_Access</th>\n",
       "      <th>Population</th>\n",
       "      <th>percentage_female</th>\n",
       "      <th>rural_residents</th>\n",
       "    </tr>\n",
       "  </thead>\n",
       "  <tbody>\n",
       "    <tr>\n",
       "      <th>0</th>\n",
       "      <td>836.0</td>\n",
       "      <td>20</td>\n",
       "      <td>4.5</td>\n",
       "      <td>5.4</td>\n",
       "      <td>10.0</td>\n",
       "      <td>20</td>\n",
       "      <td>35</td>\n",
       "      <td>6.5</td>\n",
       "      <td>32</td>\n",
       "      <td>63.0</td>\n",
       "      <td>...</td>\n",
       "      <td>52.0</td>\n",
       "      <td>49.0</td>\n",
       "      <td>8.000000</td>\n",
       "      <td>155</td>\n",
       "      <td>16088</td>\n",
       "      <td>2862.0</td>\n",
       "      <td>83</td>\n",
       "      <td>56145</td>\n",
       "      <td>51.5</td>\n",
       "      <td>22921.0</td>\n",
       "    </tr>\n",
       "    <tr>\n",
       "      <th>1</th>\n",
       "      <td>3377.0</td>\n",
       "      <td>17</td>\n",
       "      <td>4.2</td>\n",
       "      <td>5.2</td>\n",
       "      <td>8.0</td>\n",
       "      <td>20</td>\n",
       "      <td>30</td>\n",
       "      <td>7.4</td>\n",
       "      <td>28</td>\n",
       "      <td>75.0</td>\n",
       "      <td>...</td>\n",
       "      <td>214.0</td>\n",
       "      <td>153.0</td>\n",
       "      <td>26.000000</td>\n",
       "      <td>134</td>\n",
       "      <td>64716</td>\n",
       "      <td>9296.0</td>\n",
       "      <td>85</td>\n",
       "      <td>229287</td>\n",
       "      <td>51.6</td>\n",
       "      <td>77060.0</td>\n",
       "    </tr>\n",
       "    <tr>\n",
       "      <th>2</th>\n",
       "      <td>539.0</td>\n",
       "      <td>31</td>\n",
       "      <td>5.9</td>\n",
       "      <td>6.1</td>\n",
       "      <td>12.0</td>\n",
       "      <td>28</td>\n",
       "      <td>40</td>\n",
       "      <td>5.7</td>\n",
       "      <td>42</td>\n",
       "      <td>50.0</td>\n",
       "      <td>...</td>\n",
       "      <td>20.0</td>\n",
       "      <td>32.0</td>\n",
       "      <td>24.000000</td>\n",
       "      <td>102</td>\n",
       "      <td>5775</td>\n",
       "      <td>1055.0</td>\n",
       "      <td>65</td>\n",
       "      <td>24589</td>\n",
       "      <td>47.2</td>\n",
       "      <td>18613.0</td>\n",
       "    </tr>\n",
       "    <tr>\n",
       "      <th>3</th>\n",
       "      <td>460.0</td>\n",
       "      <td>25</td>\n",
       "      <td>5.2</td>\n",
       "      <td>5.8</td>\n",
       "      <td>10.0</td>\n",
       "      <td>25</td>\n",
       "      <td>41</td>\n",
       "      <td>7.6</td>\n",
       "      <td>38</td>\n",
       "      <td>11.0</td>\n",
       "      <td>...</td>\n",
       "      <td>18.0</td>\n",
       "      <td>20.0</td>\n",
       "      <td>24.625764</td>\n",
       "      <td>27</td>\n",
       "      <td>5428</td>\n",
       "      <td>650.0</td>\n",
       "      <td>76</td>\n",
       "      <td>22136</td>\n",
       "      <td>46.8</td>\n",
       "      <td>15663.0</td>\n",
       "    </tr>\n",
       "    <tr>\n",
       "      <th>4</th>\n",
       "      <td>1143.0</td>\n",
       "      <td>23</td>\n",
       "      <td>4.9</td>\n",
       "      <td>5.7</td>\n",
       "      <td>8.0</td>\n",
       "      <td>22</td>\n",
       "      <td>39</td>\n",
       "      <td>7.8</td>\n",
       "      <td>33</td>\n",
       "      <td>23.0</td>\n",
       "      <td>...</td>\n",
       "      <td>61.0</td>\n",
       "      <td>59.0</td>\n",
       "      <td>6.000000</td>\n",
       "      <td>43</td>\n",
       "      <td>16132</td>\n",
       "      <td>1722.0</td>\n",
       "      <td>80</td>\n",
       "      <td>57879</td>\n",
       "      <td>50.6</td>\n",
       "      <td>51562.0</td>\n",
       "    </tr>\n",
       "  </tbody>\n",
       "</table>\n",
       "<p>5 rows × 70 columns</p>\n",
       "</div>"
      ],
      "text/plain": [
       "   Premature_death  Percentage_Fair_or_Poor_Health  \\\n",
       "0            836.0                              20   \n",
       "1           3377.0                              17   \n",
       "2            539.0                              31   \n",
       "3            460.0                              25   \n",
       "4           1143.0                              23   \n",
       "\n",
       "   Average_Number_of_Physically_Unhealthy_Days  \\\n",
       "0                                          4.5   \n",
       "1                                          4.2   \n",
       "2                                          5.9   \n",
       "3                                          5.2   \n",
       "4                                          4.9   \n",
       "\n",
       "   Average_Number_of_Mentally_Unhealthy_Days  Percentage_Low_birthweight  \\\n",
       "0                                        5.4                        10.0   \n",
       "1                                        5.2                         8.0   \n",
       "2                                        6.1                        12.0   \n",
       "3                                        5.8                        10.0   \n",
       "4                                        5.7                         8.0   \n",
       "\n",
       "   Percentage_Smokers  Percentage_Adults_with_Obesity  Food_Environment_Index  \\\n",
       "0                  20                              35                     6.5   \n",
       "1                  20                              30                     7.4   \n",
       "2                  28                              40                     5.7   \n",
       "3                  25                              41                     7.6   \n",
       "4                  22                              39                     7.8   \n",
       "\n",
       "   Percentage_Physically_Inactive  \\\n",
       "0                              32   \n",
       "1                              28   \n",
       "2                              42   \n",
       "3                              38   \n",
       "4                              33   \n",
       "\n",
       "   Percentage_With_Access_to_Exercise_Opportunities  ...  Suicides  \\\n",
       "0                                              63.0  ...      52.0   \n",
       "1                                              75.0  ...     214.0   \n",
       "2                                              50.0  ...      20.0   \n",
       "3                                              11.0  ...      18.0   \n",
       "4                                              23.0  ...      61.0   \n",
       "\n",
       "   Firearm_fatalities  Juvenile_Arrest_Rate  Traffic_Volume  Homeowners  \\\n",
       "0                49.0              8.000000             155       16088   \n",
       "1               153.0             26.000000             134       64716   \n",
       "2                32.0             24.000000             102        5775   \n",
       "3                20.0             24.625764              27        5428   \n",
       "4                59.0              6.000000              43       16132   \n",
       "\n",
       "   Severe_housing_cost_burden  percentage_Broadband_Access  Population  \\\n",
       "0                      2862.0                           83       56145   \n",
       "1                      9296.0                           85      229287   \n",
       "2                      1055.0                           65       24589   \n",
       "3                       650.0                           76       22136   \n",
       "4                      1722.0                           80       57879   \n",
       "\n",
       "   percentage_female  rural_residents  \n",
       "0               51.5          22921.0  \n",
       "1               51.6          77060.0  \n",
       "2               47.2          18613.0  \n",
       "3               46.8          15663.0  \n",
       "4               50.6          51562.0  \n",
       "\n",
       "[5 rows x 70 columns]"
      ]
     },
     "execution_count": 8,
     "metadata": {},
     "output_type": "execute_result"
    }
   ],
   "source": [
    "# convert the columns of the dataframe to numeric datatype\n",
    "health_measures_df = health_measures_df.apply(pd.to_numeric)\n",
    "health_measures_df.head()"
   ]
  },
  {
   "cell_type": "code",
   "execution_count": 9,
   "id": "6b8166f0",
   "metadata": {},
   "outputs": [
    {
     "data": {
      "text/plain": [
       "[dtype('float64'),\n",
       " dtype('int64'),\n",
       " dtype('float64'),\n",
       " dtype('float64'),\n",
       " dtype('float64'),\n",
       " dtype('int64'),\n",
       " dtype('int64'),\n",
       " dtype('float64'),\n",
       " dtype('int64'),\n",
       " dtype('float64'),\n",
       " dtype('float64'),\n",
       " dtype('float64'),\n",
       " dtype('float64'),\n",
       " dtype('float64'),\n",
       " dtype('float64'),\n",
       " dtype('float64'),\n",
       " dtype('float64'),\n",
       " dtype('float64'),\n",
       " dtype('float64'),\n",
       " dtype('float64'),\n",
       " dtype('int64'),\n",
       " dtype('int64'),\n",
       " dtype('float64'),\n",
       " dtype('float64'),\n",
       " dtype('float64'),\n",
       " dtype('float64'),\n",
       " dtype('int64'),\n",
       " dtype('float64'),\n",
       " dtype('float64'),\n",
       " dtype('float64'),\n",
       " dtype('int64'),\n",
       " dtype('float64'),\n",
       " dtype('int64'),\n",
       " dtype('float64'),\n",
       " dtype('float64'),\n",
       " dtype('float64'),\n",
       " dtype('float64'),\n",
       " dtype('int64'),\n",
       " dtype('int64'),\n",
       " dtype('float64'),\n",
       " dtype('int64'),\n",
       " dtype('float64'),\n",
       " dtype('float64'),\n",
       " dtype('float64'),\n",
       " dtype('int64'),\n",
       " dtype('float64'),\n",
       " dtype('float64'),\n",
       " dtype('float64'),\n",
       " dtype('float64'),\n",
       " dtype('float64'),\n",
       " dtype('float64'),\n",
       " dtype('float64'),\n",
       " dtype('float64'),\n",
       " dtype('float64'),\n",
       " dtype('float64'),\n",
       " dtype('float64'),\n",
       " dtype('float64'),\n",
       " dtype('float64'),\n",
       " dtype('float64'),\n",
       " dtype('float64'),\n",
       " dtype('float64'),\n",
       " dtype('float64'),\n",
       " dtype('float64'),\n",
       " dtype('int64'),\n",
       " dtype('int64'),\n",
       " dtype('float64'),\n",
       " dtype('int64'),\n",
       " dtype('int64'),\n",
       " dtype('float64'),\n",
       " dtype('float64')]"
      ]
     },
     "execution_count": 9,
     "metadata": {},
     "output_type": "execute_result"
    }
   ],
   "source": [
    "# check datatypes again\n",
    "types = list(health_measures_df.dtypes)\n",
    "types"
   ]
  },
  {
   "cell_type": "code",
   "execution_count": 10,
   "id": "14b1fcaa",
   "metadata": {},
   "outputs": [
    {
     "data": {
      "text/plain": [
       "(3140, 70)"
      ]
     },
     "execution_count": 10,
     "metadata": {},
     "output_type": "execute_result"
    }
   ],
   "source": [
    "# drop outliers for life expectancy\n",
    "health_measures_df = health_measures_df.loc[health_measures_df['Life_expectancy']<100]\n",
    "health_measures_df.shape"
   ]
  },
  {
   "cell_type": "code",
   "execution_count": 11,
   "id": "769b07f3",
   "metadata": {},
   "outputs": [
    {
     "data": {
      "text/html": [
       "<div>\n",
       "<style scoped>\n",
       "    .dataframe tbody tr th:only-of-type {\n",
       "        vertical-align: middle;\n",
       "    }\n",
       "\n",
       "    .dataframe tbody tr th {\n",
       "        vertical-align: top;\n",
       "    }\n",
       "\n",
       "    .dataframe thead th {\n",
       "        text-align: right;\n",
       "    }\n",
       "</style>\n",
       "<table border=\"1\" class=\"dataframe\">\n",
       "  <thead>\n",
       "    <tr style=\"text-align: right;\">\n",
       "      <th></th>\n",
       "      <th>Premature_death</th>\n",
       "      <th>Percentage_Fair_or_Poor_Health</th>\n",
       "      <th>Average_Number_of_Physically_Unhealthy_Days</th>\n",
       "      <th>Average_Number_of_Mentally_Unhealthy_Days</th>\n",
       "      <th>Percentage_Low_birthweight</th>\n",
       "      <th>Percentage_Smokers</th>\n",
       "      <th>Percentage_Adults_with_Obesity</th>\n",
       "      <th>Food_Environment_Index</th>\n",
       "      <th>Percentage_Physically_Inactive</th>\n",
       "      <th>Percentage_With_Access_to_Exercise_Opportunities</th>\n",
       "      <th>...</th>\n",
       "      <th>Suicides</th>\n",
       "      <th>Firearm_fatalities</th>\n",
       "      <th>Juvenile_Arrest_Rate</th>\n",
       "      <th>Traffic_Volume</th>\n",
       "      <th>Homeowners</th>\n",
       "      <th>Severe_housing_cost_burden</th>\n",
       "      <th>percentage_Broadband_Access</th>\n",
       "      <th>Population</th>\n",
       "      <th>percentage_female</th>\n",
       "      <th>rural_residents</th>\n",
       "    </tr>\n",
       "  </thead>\n",
       "  <tbody>\n",
       "    <tr>\n",
       "      <th>count</th>\n",
       "      <td>3140.000000</td>\n",
       "      <td>3140.000000</td>\n",
       "      <td>3140.000000</td>\n",
       "      <td>3140.000000</td>\n",
       "      <td>3140.000000</td>\n",
       "      <td>3140.000000</td>\n",
       "      <td>3140.000000</td>\n",
       "      <td>3140.000000</td>\n",
       "      <td>3140.000000</td>\n",
       "      <td>3140.00000</td>\n",
       "      <td>...</td>\n",
       "      <td>3140.000000</td>\n",
       "      <td>3140.000000</td>\n",
       "      <td>3140.000000</td>\n",
       "      <td>3140.000000</td>\n",
       "      <td>3.140000e+03</td>\n",
       "      <td>3140.000000</td>\n",
       "      <td>3140.000000</td>\n",
       "      <td>3.140000e+03</td>\n",
       "      <td>3140.000000</td>\n",
       "      <td>3140.000000</td>\n",
       "    </tr>\n",
       "    <tr>\n",
       "      <th>mean</th>\n",
       "      <td>1436.538284</td>\n",
       "      <td>20.671656</td>\n",
       "      <td>4.341529</td>\n",
       "      <td>4.889236</td>\n",
       "      <td>8.211200</td>\n",
       "      <td>20.417197</td>\n",
       "      <td>35.776115</td>\n",
       "      <td>7.446636</td>\n",
       "      <td>30.403503</td>\n",
       "      <td>55.15310</td>\n",
       "      <td>...</td>\n",
       "      <td>94.710076</td>\n",
       "      <td>87.701013</td>\n",
       "      <td>24.634761</td>\n",
       "      <td>153.908599</td>\n",
       "      <td>2.509466e+04</td>\n",
       "      <td>5368.981835</td>\n",
       "      <td>78.555096</td>\n",
       "      <td>1.049255e+05</td>\n",
       "      <td>49.903344</td>\n",
       "      <td>18975.180322</td>\n",
       "    </tr>\n",
       "    <tr>\n",
       "      <th>std</th>\n",
       "      <td>3515.099589</td>\n",
       "      <td>5.035790</td>\n",
       "      <td>0.752328</td>\n",
       "      <td>0.691116</td>\n",
       "      <td>2.027968</td>\n",
       "      <td>4.205288</td>\n",
       "      <td>4.313149</td>\n",
       "      <td>1.140264</td>\n",
       "      <td>5.828541</td>\n",
       "      <td>23.53803</td>\n",
       "      <td>...</td>\n",
       "      <td>184.208655</td>\n",
       "      <td>189.410423</td>\n",
       "      <td>14.023351</td>\n",
       "      <td>292.910606</td>\n",
       "      <td>6.596829e+04</td>\n",
       "      <td>21824.673407</td>\n",
       "      <td>8.244308</td>\n",
       "      <td>3.334205e+05</td>\n",
       "      <td>2.216927</td>\n",
       "      <td>16653.501934</td>\n",
       "    </tr>\n",
       "    <tr>\n",
       "      <th>min</th>\n",
       "      <td>37.000000</td>\n",
       "      <td>9.000000</td>\n",
       "      <td>2.500000</td>\n",
       "      <td>3.200000</td>\n",
       "      <td>3.000000</td>\n",
       "      <td>7.000000</td>\n",
       "      <td>16.000000</td>\n",
       "      <td>0.000000</td>\n",
       "      <td>13.000000</td>\n",
       "      <td>0.00000</td>\n",
       "      <td>...</td>\n",
       "      <td>10.000000</td>\n",
       "      <td>10.000000</td>\n",
       "      <td>0.000000</td>\n",
       "      <td>0.000000</td>\n",
       "      <td>0.000000e+00</td>\n",
       "      <td>4.000000</td>\n",
       "      <td>33.000000</td>\n",
       "      <td>8.700000e+01</td>\n",
       "      <td>27.000000</td>\n",
       "      <td>0.000000</td>\n",
       "    </tr>\n",
       "    <tr>\n",
       "      <th>25%</th>\n",
       "      <td>257.750000</td>\n",
       "      <td>17.000000</td>\n",
       "      <td>3.800000</td>\n",
       "      <td>4.400000</td>\n",
       "      <td>7.000000</td>\n",
       "      <td>18.000000</td>\n",
       "      <td>33.000000</td>\n",
       "      <td>6.800000</td>\n",
       "      <td>27.000000</td>\n",
       "      <td>40.00000</td>\n",
       "      <td>...</td>\n",
       "      <td>22.000000</td>\n",
       "      <td>22.000000</td>\n",
       "      <td>17.750000</td>\n",
       "      <td>26.000000</td>\n",
       "      <td>3.166000e+03</td>\n",
       "      <td>382.750000</td>\n",
       "      <td>74.000000</td>\n",
       "      <td>1.091325e+04</td>\n",
       "      <td>49.400000</td>\n",
       "      <td>7108.250000</td>\n",
       "    </tr>\n",
       "    <tr>\n",
       "      <th>50%</th>\n",
       "      <td>573.000000</td>\n",
       "      <td>20.000000</td>\n",
       "      <td>4.300000</td>\n",
       "      <td>4.900000</td>\n",
       "      <td>8.000000</td>\n",
       "      <td>20.000000</td>\n",
       "      <td>36.000000</td>\n",
       "      <td>7.600000</td>\n",
       "      <td>30.000000</td>\n",
       "      <td>56.00000</td>\n",
       "      <td>...</td>\n",
       "      <td>55.000000</td>\n",
       "      <td>56.000000</td>\n",
       "      <td>24.625764</td>\n",
       "      <td>77.000000</td>\n",
       "      <td>7.267500e+03</td>\n",
       "      <td>978.000000</td>\n",
       "      <td>80.000000</td>\n",
       "      <td>2.567700e+04</td>\n",
       "      <td>50.300000</td>\n",
       "      <td>14426.000000</td>\n",
       "    </tr>\n",
       "    <tr>\n",
       "      <th>75%</th>\n",
       "      <td>1436.113089</td>\n",
       "      <td>24.000000</td>\n",
       "      <td>4.800000</td>\n",
       "      <td>5.400000</td>\n",
       "      <td>9.000000</td>\n",
       "      <td>23.000000</td>\n",
       "      <td>38.000000</td>\n",
       "      <td>8.200000</td>\n",
       "      <td>34.000000</td>\n",
       "      <td>72.00000</td>\n",
       "      <td>...</td>\n",
       "      <td>94.683107</td>\n",
       "      <td>87.701013</td>\n",
       "      <td>25.000000</td>\n",
       "      <td>167.000000</td>\n",
       "      <td>1.872100e+04</td>\n",
       "      <td>2933.750000</td>\n",
       "      <td>84.000000</td>\n",
       "      <td>6.829725e+04</td>\n",
       "      <td>51.000000</td>\n",
       "      <td>25555.000000</td>\n",
       "    </tr>\n",
       "    <tr>\n",
       "      <th>max</th>\n",
       "      <td>94251.000000</td>\n",
       "      <td>45.000000</td>\n",
       "      <td>7.800000</td>\n",
       "      <td>7.500000</td>\n",
       "      <td>22.000000</td>\n",
       "      <td>43.000000</td>\n",
       "      <td>51.000000</td>\n",
       "      <td>10.000000</td>\n",
       "      <td>52.000000</td>\n",
       "      <td>100.00000</td>\n",
       "      <td>...</td>\n",
       "      <td>4384.000000</td>\n",
       "      <td>4290.000000</td>\n",
       "      <td>187.000000</td>\n",
       "      <td>5028.000000</td>\n",
       "      <td>1.534472e+06</td>\n",
       "      <td>762517.000000</td>\n",
       "      <td>97.000000</td>\n",
       "      <td>9.943046e+06</td>\n",
       "      <td>56.800000</td>\n",
       "      <td>146856.000000</td>\n",
       "    </tr>\n",
       "  </tbody>\n",
       "</table>\n",
       "<p>8 rows × 70 columns</p>\n",
       "</div>"
      ],
      "text/plain": [
       "       Premature_death  Percentage_Fair_or_Poor_Health  \\\n",
       "count      3140.000000                     3140.000000   \n",
       "mean       1436.538284                       20.671656   \n",
       "std        3515.099589                        5.035790   \n",
       "min          37.000000                        9.000000   \n",
       "25%         257.750000                       17.000000   \n",
       "50%         573.000000                       20.000000   \n",
       "75%        1436.113089                       24.000000   \n",
       "max       94251.000000                       45.000000   \n",
       "\n",
       "       Average_Number_of_Physically_Unhealthy_Days  \\\n",
       "count                                  3140.000000   \n",
       "mean                                      4.341529   \n",
       "std                                       0.752328   \n",
       "min                                       2.500000   \n",
       "25%                                       3.800000   \n",
       "50%                                       4.300000   \n",
       "75%                                       4.800000   \n",
       "max                                       7.800000   \n",
       "\n",
       "       Average_Number_of_Mentally_Unhealthy_Days  Percentage_Low_birthweight  \\\n",
       "count                                3140.000000                 3140.000000   \n",
       "mean                                    4.889236                    8.211200   \n",
       "std                                     0.691116                    2.027968   \n",
       "min                                     3.200000                    3.000000   \n",
       "25%                                     4.400000                    7.000000   \n",
       "50%                                     4.900000                    8.000000   \n",
       "75%                                     5.400000                    9.000000   \n",
       "max                                     7.500000                   22.000000   \n",
       "\n",
       "       Percentage_Smokers  Percentage_Adults_with_Obesity  \\\n",
       "count         3140.000000                     3140.000000   \n",
       "mean            20.417197                       35.776115   \n",
       "std              4.205288                        4.313149   \n",
       "min              7.000000                       16.000000   \n",
       "25%             18.000000                       33.000000   \n",
       "50%             20.000000                       36.000000   \n",
       "75%             23.000000                       38.000000   \n",
       "max             43.000000                       51.000000   \n",
       "\n",
       "       Food_Environment_Index  Percentage_Physically_Inactive  \\\n",
       "count             3140.000000                     3140.000000   \n",
       "mean                 7.446636                       30.403503   \n",
       "std                  1.140264                        5.828541   \n",
       "min                  0.000000                       13.000000   \n",
       "25%                  6.800000                       27.000000   \n",
       "50%                  7.600000                       30.000000   \n",
       "75%                  8.200000                       34.000000   \n",
       "max                 10.000000                       52.000000   \n",
       "\n",
       "       Percentage_With_Access_to_Exercise_Opportunities  ...     Suicides  \\\n",
       "count                                        3140.00000  ...  3140.000000   \n",
       "mean                                           55.15310  ...    94.710076   \n",
       "std                                            23.53803  ...   184.208655   \n",
       "min                                             0.00000  ...    10.000000   \n",
       "25%                                            40.00000  ...    22.000000   \n",
       "50%                                            56.00000  ...    55.000000   \n",
       "75%                                            72.00000  ...    94.683107   \n",
       "max                                           100.00000  ...  4384.000000   \n",
       "\n",
       "       Firearm_fatalities  Juvenile_Arrest_Rate  Traffic_Volume    Homeowners  \\\n",
       "count         3140.000000           3140.000000     3140.000000  3.140000e+03   \n",
       "mean            87.701013             24.634761      153.908599  2.509466e+04   \n",
       "std            189.410423             14.023351      292.910606  6.596829e+04   \n",
       "min             10.000000              0.000000        0.000000  0.000000e+00   \n",
       "25%             22.000000             17.750000       26.000000  3.166000e+03   \n",
       "50%             56.000000             24.625764       77.000000  7.267500e+03   \n",
       "75%             87.701013             25.000000      167.000000  1.872100e+04   \n",
       "max           4290.000000            187.000000     5028.000000  1.534472e+06   \n",
       "\n",
       "       Severe_housing_cost_burden  percentage_Broadband_Access    Population  \\\n",
       "count                 3140.000000                  3140.000000  3.140000e+03   \n",
       "mean                  5368.981835                    78.555096  1.049255e+05   \n",
       "std                  21824.673407                     8.244308  3.334205e+05   \n",
       "min                      4.000000                    33.000000  8.700000e+01   \n",
       "25%                    382.750000                    74.000000  1.091325e+04   \n",
       "50%                    978.000000                    80.000000  2.567700e+04   \n",
       "75%                   2933.750000                    84.000000  6.829725e+04   \n",
       "max                 762517.000000                    97.000000  9.943046e+06   \n",
       "\n",
       "       percentage_female  rural_residents  \n",
       "count        3140.000000      3140.000000  \n",
       "mean           49.903344     18975.180322  \n",
       "std             2.216927     16653.501934  \n",
       "min            27.000000         0.000000  \n",
       "25%            49.400000      7108.250000  \n",
       "50%            50.300000     14426.000000  \n",
       "75%            51.000000     25555.000000  \n",
       "max            56.800000    146856.000000  \n",
       "\n",
       "[8 rows x 70 columns]"
      ]
     },
     "execution_count": 11,
     "metadata": {},
     "output_type": "execute_result"
    }
   ],
   "source": [
    "# take a look a summary statistics\n",
    "health_measures_df.describe()"
   ]
  },
  {
   "cell_type": "code",
   "execution_count": 12,
   "id": "e8730bd2",
   "metadata": {},
   "outputs": [],
   "source": [
    "# create a function for finding correlated features\n",
    "def corr_finder(df):\n",
    "    corr = df.corr()\n",
    "    rows, cols = df.shape\n",
    "    columns = df.columns\n",
    "    corr_val = corr.values\n",
    "    for i in range(cols):\n",
    "        for j in range(i+1, cols):\n",
    "            if corr_val[i, j] > .85:\n",
    "                print(columns[i], ' ', columns[j], ' ', corr_val[i, j])"
   ]
  },
  {
   "cell_type": "code",
   "execution_count": 13,
   "id": "67d22bb3",
   "metadata": {},
   "outputs": [
    {
     "data": {
      "text/plain": [
       "Premature_death                                0.143229\n",
       "Percentage_Fair_or_Poor_Health                 0.686102\n",
       "Average_Number_of_Physically_Unhealthy_Days    0.709361\n",
       "Average_Number_of_Mentally_Unhealthy_Days      0.669841\n",
       "Percentage_Low_birthweight                     0.496045\n",
       "                                                 ...   \n",
       "Severe_housing_cost_burden                     0.156221\n",
       "percentage_Broadband_Access                    0.537488\n",
       "Population                                     0.180051\n",
       "percentage_female                              0.127355\n",
       "rural_residents                                0.061158\n",
       "Length: 70, dtype: float64"
      ]
     },
     "execution_count": 13,
     "metadata": {},
     "output_type": "execute_result"
    }
   ],
   "source": [
    "# check correlations with life expectancy\n",
    "health_measures_df.corrwith(health_measures_df['Life_expectancy']).abs()"
   ]
  },
  {
   "cell_type": "code",
   "execution_count": 14,
   "id": "78e1ccd8",
   "metadata": {},
   "outputs": [
    {
     "data": {
      "text/plain": [
       "['Percentage_Fair_or_Poor_Health',\n",
       " 'Average_Number_of_Physically_Unhealthy_Days',\n",
       " 'Average_Number_of_Mentally_Unhealthy_Days',\n",
       " 'Percentage_Smokers',\n",
       " 'Percentage_Adults_with_Obesity',\n",
       " 'Percentage_Physically_Inactive',\n",
       " 'Teen_Birth_Rate',\n",
       " 'Percentage_Children_in_Poverty',\n",
       " 'Life_expectancy',\n",
       " 'percentage_Frequent_Physical_Distress',\n",
       " 'percentage_Adults_with_Diabetes',\n",
       " 'percentage_Insufficient_Sleep',\n",
       " 'Median_household_income',\n",
       " 'percentage_Enrolled_in_Free_or_Reduced_Lunch_Children_eligible_']"
      ]
     },
     "execution_count": 14,
     "metadata": {},
     "output_type": "execute_result"
    }
   ],
   "source": [
    "# make a list of columns with reasonable correlation to life expectancy\n",
    "life_corr = health_measures_df.corrwith(health_measures_df['Life_expectancy']).abs()\n",
    "life_corr_cols = []\n",
    "for index, value in life_corr.items():\n",
    "    if value > .6:\n",
    "        life_corr_cols.append(index)\n",
    "life_corr_cols"
   ]
  },
  {
   "cell_type": "code",
   "execution_count": 15,
   "id": "e5913b78",
   "metadata": {},
   "outputs": [
    {
     "data": {
      "text/plain": [
       "<AxesSubplot:>"
      ]
     },
     "execution_count": 15,
     "metadata": {},
     "output_type": "execute_result"
    },
    {
     "data": {
      "image/png": "[encoded data removed]",
      "text/plain": [
       "<Figure size 720x720 with 2 Axes>"
      ]
     },
     "metadata": {
      "needs_background": "light"
     },
     "output_type": "display_data"
    }
   ],
   "source": [
    "# create a dataframe of features correlated to life expectancy\n",
    "life_df = health_measures_df[life_corr_cols]\n",
    "plt.figure(figsize=(10, 10))\n",
    "sns.heatmap(life_df.corr().abs(), cmap='Blues', annot=True)\n"
   ]
  },
  {
   "cell_type": "code",
   "execution_count": 16,
   "id": "faf5be13",
   "metadata": {},
   "outputs": [
    {
     "name": "stdout",
     "output_type": "stream",
     "text": [
      "Percentage_Fair_or_Poor_Health   Average_Number_of_Physically_Unhealthy_Days   0.9000455684639014\n",
      "Percentage_Fair_or_Poor_Health   Percentage_Physically_Inactive   0.8538022388319435\n",
      "Percentage_Fair_or_Poor_Health   percentage_Frequent_Physical_Distress   0.9194697863856578\n",
      "Percentage_Fair_or_Poor_Health   percentage_Adults_with_Diabetes   0.9300396078329347\n",
      "Average_Number_of_Physically_Unhealthy_Days   Average_Number_of_Mentally_Unhealthy_Days   0.9128943203953483\n",
      "Average_Number_of_Physically_Unhealthy_Days   percentage_Frequent_Physical_Distress   0.9876551726871655\n",
      "Average_Number_of_Mentally_Unhealthy_Days   percentage_Frequent_Physical_Distress   0.8889465507945684\n"
     ]
    }
   ],
   "source": [
    "# check correlated features in life_df\n",
    "corr_finder(life_df)"
   ]
  },
  {
   "cell_type": "code",
   "execution_count": 17,
   "id": "4c073cf5",
   "metadata": {},
   "outputs": [],
   "source": [
    "# remove >.9 correlated features from life_df that are least correlated to life expectancy\n",
    "rmv_cols = ['Percentage_Fair_or_Poor_Health', 'Average_Number_of_Physically_Unhealthy_Days', 'Average_Number_of_Mentally_Unhealthy_Days']\n",
    "life_df2 = life_df.drop(rmv_cols, axis=1)"
   ]
  },
  {
   "cell_type": "code",
   "execution_count": 18,
   "id": "32e7cb54",
   "metadata": {},
   "outputs": [],
   "source": [
    "# confirm no correlations above .85\n",
    "corr_finder(life_df2)"
   ]
  },
  {
   "cell_type": "code",
   "execution_count": 19,
   "id": "ecde98d6",
   "metadata": {},
   "outputs": [
    {
     "data": {
      "text/plain": [
       "<AxesSubplot:>"
      ]
     },
     "execution_count": 19,
     "metadata": {},
     "output_type": "execute_result"
    },
    {
     "data": {
      "image/png": "[encoded data removed]",
      "text/plain": [
       "<Figure size 720x720 with 2 Axes>"
      ]
     },
     "metadata": {
      "needs_background": "light"
     },
     "output_type": "display_data"
    }
   ],
   "source": [
    "# display the new df corr heatmap\n",
    "plt.figure(figsize=(10, 10))\n",
    "sns.heatmap(life_df2.corr().abs(), cmap='Blues', annot=True)"
   ]
  },
  {
   "cell_type": "code",
   "execution_count": 20,
   "id": "c7edd018",
   "metadata": {},
   "outputs": [],
   "source": [
    "# separate into features and target\n",
    "y = life_df2['Life_expectancy']\n",
    "X = life_df2.copy()\n",
    "X = X.drop('Life_expectancy', axis=1)"
   ]
  },
  {
   "cell_type": "code",
   "execution_count": 21,
   "id": "99833a0b",
   "metadata": {},
   "outputs": [],
   "source": [
    "# split into training and testing data\n",
    "X_train, X_test, y_train, y_test = train_test_split(X, y, random_state=5)"
   ]
  },
  {
   "cell_type": "code",
   "execution_count": 22,
   "id": "ee085b9b",
   "metadata": {},
   "outputs": [],
   "source": [
    "# scale the features\n",
    "scaler = StandardScaler()\n",
    "X_scaler = scaler.fit(X_train)\n",
    "X_train_scaled = X_scaler.transform(X_train)\n",
    "X_test_scaled = X_scaler.transform(X_test)"
   ]
  },
  {
   "cell_type": "code",
   "execution_count": 23,
   "id": "90da6ab1",
   "metadata": {},
   "outputs": [],
   "source": [
    "# instantiate the model\n",
    "lm = LinearRegression()"
   ]
  },
  {
   "cell_type": "code",
   "execution_count": 24,
   "id": "093ad475",
   "metadata": {},
   "outputs": [
    {
     "data": {
      "text/plain": [
       "LinearRegression()"
      ]
     },
     "execution_count": 24,
     "metadata": {},
     "output_type": "execute_result"
    }
   ],
   "source": [
    "# Train the Model\n",
    "lm.fit(X_train_scaled, y_train)"
   ]
  },
  {
   "cell_type": "code",
   "execution_count": 25,
   "id": "40d50de9",
   "metadata": {},
   "outputs": [
    {
     "name": "stderr",
     "output_type": "stream",
     "text": [
      "C:\\Users\\Michael\\anaconda3\\envs\\mlenv\\lib\\site-packages\\seaborn\\distributions.py:2619: FutureWarning: `distplot` is a deprecated function and will be removed in a future version. Please adapt your code to use either `displot` (a figure-level function with similar flexibility) or `histplot` (an axes-level function for histograms).\n",
      "  warnings.warn(msg, FutureWarning)\n"
     ]
    },
    {
     "data": {
      "text/plain": [
       "Text(0.5, 0, 'Errors')"
      ]
     },
     "execution_count": 25,
     "metadata": {},
     "output_type": "execute_result"
    },
    {
     "data": {
      "image/png": "[encoded data removed]",
      "text/plain": [
       "<Figure size 432x288 with 1 Axes>"
      ]
     },
     "metadata": {
      "needs_background": "light"
     },
     "output_type": "display_data"
    }
   ],
   "source": [
    "# make predictions for residual analysis\n",
    "y_train_predict = lm.predict(X_train_scaled)\n",
    "fig=plt.figure()\n",
    "sns.distplot((y_train - y_train_predict), bins=10)\n",
    "fig.suptitle('Error Terms', fontsize=15)\n",
    "plt.xlabel('Errors', fontsize=13)\n"
   ]
  },
  {
   "cell_type": "code",
   "execution_count": 26,
   "id": "38c6e636",
   "metadata": {},
   "outputs": [
    {
     "data": {
      "text/html": [
       "<div>\n",
       "<style scoped>\n",
       "    .dataframe tbody tr th:only-of-type {\n",
       "        vertical-align: middle;\n",
       "    }\n",
       "\n",
       "    .dataframe tbody tr th {\n",
       "        vertical-align: top;\n",
       "    }\n",
       "\n",
       "    .dataframe thead th {\n",
       "        text-align: right;\n",
       "    }\n",
       "</style>\n",
       "<table border=\"1\" class=\"dataframe\">\n",
       "  <thead>\n",
       "    <tr style=\"text-align: right;\">\n",
       "      <th></th>\n",
       "      <th>Prediction</th>\n",
       "      <th>Actual</th>\n",
       "    </tr>\n",
       "  </thead>\n",
       "  <tbody>\n",
       "    <tr>\n",
       "      <th>0</th>\n",
       "      <td>75.715685</td>\n",
       "      <td>72.6</td>\n",
       "    </tr>\n",
       "    <tr>\n",
       "      <th>1</th>\n",
       "      <td>79.171611</td>\n",
       "      <td>76.8</td>\n",
       "    </tr>\n",
       "    <tr>\n",
       "      <th>2</th>\n",
       "      <td>77.528976</td>\n",
       "      <td>76.7</td>\n",
       "    </tr>\n",
       "    <tr>\n",
       "      <th>3</th>\n",
       "      <td>79.045700</td>\n",
       "      <td>78.7</td>\n",
       "    </tr>\n",
       "    <tr>\n",
       "      <th>4</th>\n",
       "      <td>78.168651</td>\n",
       "      <td>77.1</td>\n",
       "    </tr>\n",
       "    <tr>\n",
       "      <th>...</th>\n",
       "      <td>...</td>\n",
       "      <td>...</td>\n",
       "    </tr>\n",
       "    <tr>\n",
       "      <th>780</th>\n",
       "      <td>77.181713</td>\n",
       "      <td>78.2</td>\n",
       "    </tr>\n",
       "    <tr>\n",
       "      <th>781</th>\n",
       "      <td>75.750027</td>\n",
       "      <td>78.5</td>\n",
       "    </tr>\n",
       "    <tr>\n",
       "      <th>782</th>\n",
       "      <td>76.417754</td>\n",
       "      <td>75.3</td>\n",
       "    </tr>\n",
       "    <tr>\n",
       "      <th>783</th>\n",
       "      <td>77.774193</td>\n",
       "      <td>74.6</td>\n",
       "    </tr>\n",
       "    <tr>\n",
       "      <th>784</th>\n",
       "      <td>74.477643</td>\n",
       "      <td>76.4</td>\n",
       "    </tr>\n",
       "  </tbody>\n",
       "</table>\n",
       "<p>785 rows × 2 columns</p>\n",
       "</div>"
      ],
      "text/plain": [
       "     Prediction  Actual\n",
       "0     75.715685    72.6\n",
       "1     79.171611    76.8\n",
       "2     77.528976    76.7\n",
       "3     79.045700    78.7\n",
       "4     78.168651    77.1\n",
       "..          ...     ...\n",
       "780   77.181713    78.2\n",
       "781   75.750027    78.5\n",
       "782   76.417754    75.3\n",
       "783   77.774193    74.6\n",
       "784   74.477643    76.4\n",
       "\n",
       "[785 rows x 2 columns]"
      ]
     },
     "execution_count": 26,
     "metadata": {},
     "output_type": "execute_result"
    }
   ],
   "source": [
    "# make predictions with the model\n",
    "predictions = lm.predict(X_test_scaled)\n",
    "# create a df of predictions and actual y_test\n",
    "prediction_df = pd.DataFrame({'Prediction':predictions, 'Actual':y_test}).reset_index(drop=True)\n",
    "prediction_df\n"
   ]
  },
  {
   "cell_type": "code",
   "execution_count": 84,
   "id": "09d9132a",
   "metadata": {},
   "outputs": [
    {
     "name": "stdout",
     "output_type": "stream",
     "text": [
      "The train r2 score was -0.677 and the test r2 score was -0.653. Model coefficients:[-0.83153856 -0.41005641  0.00118275 -0.83466331 -0.24550492  0.10254589\n",
      "  0.07235798 -0.45123405  0.24183408 -0.29053836] and intercept:76.90964451190658. MAE:3.1198094070985682\n"
     ]
    }
   ],
   "source": [
    "# print the mean absolute error and r2_score\n",
    "r2_test = round(r2_score(y_true = y_test, y_pred = predictions),3)\n",
    "r2_train = round(r2_score(y_true = y_train, y_pred = y_train_predict), 3)\n",
    "coefficients = lm.coef_\n",
    "intercept = lm.intercept_\n",
    "mae = mean_absolute_error(y_test, predictions)\n",
    "print(f'The train r2 score was {r2_train} and the test r2 score was {r2_test}. Model coefficients:{coefficients} and intercept:{intercept}. MAE:{mae}')"
   ]
  },
  {
   "cell_type": "code",
   "execution_count": 28,
   "id": "240dfd88",
   "metadata": {},
   "outputs": [
    {
     "data": {
      "text/plain": [
       "<matplotlib.collections.PathCollection at 0x27ac22b0488>"
      ]
     },
     "execution_count": 28,
     "metadata": {},
     "output_type": "execute_result"
    },
    {
     "data": {
      "image/png": "[encoded data removed]",
      "text/plain": [
       "<Figure size 432x288 with 1 Axes>"
      ]
     },
     "metadata": {
      "needs_background": "light"
     },
     "output_type": "display_data"
    }
   ],
   "source": [
    "# plot predicted vs actual\n",
    "x=prediction_df['Prediction']\n",
    "y=prediction_df['Actual']\n",
    "plt.xlabel('Predicted Life Expectancy')\n",
    "plt.ylabel('Actual Life Expectancy')\n",
    "plt.title('Predicted vs Actual Life Expectancy')\n",
    "plt.scatter(x=x, y=y)"
   ]
  },
  {
   "cell_type": "markdown",
   "id": "c560a96c",
   "metadata": {},
   "source": [
    "# RFE Exploration"
   ]
  },
  {
   "cell_type": "code",
   "execution_count": 71,
   "id": "9dac6545",
   "metadata": {},
   "outputs": [],
   "source": [
    "# import dependencies\n",
    "from numpy import mean, std\n",
    "from sklearn.model_selection import cross_val_score, RepeatedKFold, RepeatedStratifiedKFold\n",
    "from sklearn.feature_selection import RFE, SelectKBest, f_regression, mutual_info_regression\n",
    "from sklearn.tree import DecisionTreeRegressor\n",
    "from sklearn.pipeline import Pipeline\n"
   ]
  },
  {
   "cell_type": "code",
   "execution_count": 31,
   "id": "8740b683",
   "metadata": {},
   "outputs": [],
   "source": [
    "# define dataset\n",
    "y = health_measures_df['Life_expectancy']\n",
    "X = health_measures_df.copy()\n",
    "X = X.drop('Life_expectancy', axis=1)"
   ]
  },
  {
   "cell_type": "code",
   "execution_count": 32,
   "id": "2f9a2715",
   "metadata": {},
   "outputs": [],
   "source": [
    "# create pipeline\n",
    "rfe = RFE(estimator=DecisionTreeRegressor(), n_features_to_select=10)\n",
    "model = DecisionTreeRegressor()\n",
    "pipeline = Pipeline(steps=[('s', rfe), ('m', model)])"
   ]
  },
  {
   "cell_type": "code",
   "execution_count": 33,
   "id": "1d03aaec",
   "metadata": {},
   "outputs": [],
   "source": [
    "#evaluate model\n",
    "cv = RepeatedKFold(n_splits=10, n_repeats=3, random_state=5)\n",
    "n_scores = cross_val_score(pipeline, X, y, scoring='neg_mean_absolute_error', cv=cv, n_jobs=-1, error_score ='raise')"
   ]
  },
  {
   "cell_type": "code",
   "execution_count": null,
   "id": "70e62dce",
   "metadata": {},
   "outputs": [],
   "source": [
    "# report performance\n",
    "print('MAE:%.3f (%.3f)' % (mean(n_scores), std(n_scores)))"
   ]
  },
  {
   "cell_type": "markdown",
   "id": "6ce09275",
   "metadata": {},
   "source": [
    "# Correlation Feature Selection"
   ]
  },
  {
   "cell_type": "code",
   "execution_count": 86,
   "id": "2f5eb18f",
   "metadata": {},
   "outputs": [],
   "source": [
    "#split data\n",
    "X_train, X_test, y_train, y_test = train_test_split(X, y)\n",
    "#scale \n",
    "scaler = StandardScaler()\n",
    "X_scaler = scaler.fit(X_train)\n",
    "X_train_scaled = X_scaler.transform(X_train)\n",
    "X_test_scaled = X_scaler.transform(X_test)"
   ]
  },
  {
   "cell_type": "code",
   "execution_count": 68,
   "id": "4a7bb6db",
   "metadata": {},
   "outputs": [],
   "source": [
    "# configure to select all features\n",
    "fs = SelectKBest(score_func=f_regression, k='all')\n",
    "# fit the data\n",
    "fs.fit(X_train, y_train)\n",
    "#transform input data\n",
    "X_train_fs = fs.transform(X_train)\n",
    "X_test_fs = fs.transform(X_test)"
   ]
  },
  {
   "cell_type": "code",
   "execution_count": 70,
   "id": "52523d4b",
   "metadata": {},
   "outputs": [
    {
     "name": "stdout",
     "output_type": "stream",
     "text": [
      "Feature 0: 56.583975\n",
      "Feature 1: 2182.737517\n",
      "Feature 2: 2445.888053\n",
      "Feature 3: 1919.480583\n",
      "Feature 4: 796.119209\n",
      "Feature 5: 2377.750998\n",
      "Feature 6: 1580.902219\n",
      "Feature 7: 820.006360\n",
      "Feature 8: 2175.146322\n",
      "Feature 9: 224.035740\n",
      "Feature 10: 29.383988\n",
      "Feature 11: 40.000469\n",
      "Feature 12: 2045.036066\n",
      "Feature 13: 47.144133\n",
      "Feature 14: 118.024009\n",
      "Feature 15: 103.820916\n",
      "Feature 16: 106.954729\n",
      "Feature 17: 704.106557\n",
      "Feature 18: 356.074240\n",
      "Feature 19: 198.765537\n",
      "Feature 20: 105.561359\n",
      "Feature 21: 106.069251\n",
      "Feature 22: 73.441996\n",
      "Feature 23: 2080.323494\n",
      "Feature 24: 1258.492471\n",
      "Feature 25: 36.726324\n",
      "Feature 26: 98.240945\n",
      "Feature 27: 19.266657\n",
      "Feature 28: 51.804187\n",
      "Feature 29: 43.380421\n",
      "Feature 30: 22.770361\n",
      "Feature 31: 231.847464\n",
      "Feature 32: 109.065021\n",
      "Feature 33: 38.606401\n",
      "Feature 34: 51.839317\n",
      "Feature 35: 29.834380\n",
      "Feature 36: 2595.484862\n",
      "Feature 37: 1769.736869\n",
      "Feature 38: 33.298709\n",
      "Feature 39: 48.653444\n",
      "Feature 40: 22.010089\n",
      "Feature 41: 38.390589\n",
      "Feature 42: 49.286482\n",
      "Feature 43: 1336.904371\n",
      "Feature 44: 47.082101\n",
      "Feature 45: 2.915538\n",
      "Feature 46: 6.628090\n",
      "Feature 47: 206.458201\n",
      "Feature 48: 352.627970\n",
      "Feature 49: 372.753213\n",
      "Feature 50: 7.092475\n",
      "Feature 51: 110.081533\n",
      "Feature 52: 0.015449\n",
      "Feature 53: 1663.608896\n",
      "Feature 54: 1406.801513\n",
      "Feature 55: 70.745687\n",
      "Feature 56: 100.606099\n",
      "Feature 57: 94.455016\n",
      "Feature 58: 487.859088\n",
      "Feature 59: 94.414410\n",
      "Feature 60: 27.981673\n",
      "Feature 61: 51.682738\n",
      "Feature 62: 109.843551\n",
      "Feature 63: 107.467409\n",
      "Feature 64: 77.309032\n",
      "Feature 65: 959.263172\n",
      "Feature 66: 97.385591\n",
      "Feature 67: 36.332525\n",
      "Feature 68: 7.893731\n"
     ]
    },
    {
     "data": {
      "image/png": "[encoded data removed]",
      "text/plain": [
       "<Figure size 432x288 with 1 Axes>"
      ]
     },
     "metadata": {
      "needs_background": "light"
     },
     "output_type": "display_data"
    }
   ],
   "source": [
    "# scores for the features\n",
    "for i in range(len(fs.scores_)):\n",
    "    print('Feature %d: %f' % (i, fs.scores_[i]))\n",
    "#plot the scores\n",
    "plt.bar([i for i in range(len(fs.scores_))], fs.scores_)\n",
    "plt.show()"
   ]
  },
  {
   "cell_type": "markdown",
   "id": "7a0cc14b",
   "metadata": {},
   "source": [
    "# Mutual Information Feature Selection\n"
   ]
  },
  {
   "cell_type": "code",
   "execution_count": 72,
   "id": "2d119ea7",
   "metadata": {},
   "outputs": [],
   "source": [
    "# configure to select all features\n",
    "mfs = SelectKBest(score_func=mutual_info_regression, k='all')"
   ]
  },
  {
   "cell_type": "code",
   "execution_count": 73,
   "id": "9ab07067",
   "metadata": {},
   "outputs": [
    {
     "data": {
      "text/plain": [
       "SelectKBest(k='all',\n",
       "            score_func=<function mutual_info_regression at 0x0000027AC239E3A8>)"
      ]
     },
     "execution_count": 73,
     "metadata": {},
     "output_type": "execute_result"
    }
   ],
   "source": [
    "# learn relationship from training data\n",
    "mfs.fit(X_train, y_train)"
   ]
  },
  {
   "cell_type": "code",
   "execution_count": 74,
   "id": "84ade935",
   "metadata": {},
   "outputs": [],
   "source": [
    "# transform input data\n",
    "X_train_mfs = mfs.transform(X_train)\n",
    "X_test_mfs = mfs.transform(X_test)"
   ]
  },
  {
   "cell_type": "code",
   "execution_count": 75,
   "id": "15b45a04",
   "metadata": {},
   "outputs": [
    {
     "name": "stdout",
     "output_type": "stream",
     "text": [
      "Feature 0: 56.583975\n",
      "Feature 1: 2182.737517\n",
      "Feature 2: 2445.888053\n",
      "Feature 3: 1919.480583\n",
      "Feature 4: 796.119209\n",
      "Feature 5: 2377.750998\n",
      "Feature 6: 1580.902219\n",
      "Feature 7: 820.006360\n",
      "Feature 8: 2175.146322\n",
      "Feature 9: 224.035740\n",
      "Feature 10: 29.383988\n",
      "Feature 11: 40.000469\n",
      "Feature 12: 2045.036066\n",
      "Feature 13: 47.144133\n",
      "Feature 14: 118.024009\n",
      "Feature 15: 103.820916\n",
      "Feature 16: 106.954729\n",
      "Feature 17: 704.106557\n",
      "Feature 18: 356.074240\n",
      "Feature 19: 198.765537\n",
      "Feature 20: 105.561359\n",
      "Feature 21: 106.069251\n",
      "Feature 22: 73.441996\n",
      "Feature 23: 2080.323494\n",
      "Feature 24: 1258.492471\n",
      "Feature 25: 36.726324\n",
      "Feature 26: 98.240945\n",
      "Feature 27: 19.266657\n",
      "Feature 28: 51.804187\n",
      "Feature 29: 43.380421\n",
      "Feature 30: 22.770361\n",
      "Feature 31: 231.847464\n",
      "Feature 32: 109.065021\n",
      "Feature 33: 38.606401\n",
      "Feature 34: 51.839317\n",
      "Feature 35: 29.834380\n",
      "Feature 36: 2595.484862\n",
      "Feature 37: 1769.736869\n",
      "Feature 38: 33.298709\n",
      "Feature 39: 48.653444\n",
      "Feature 40: 22.010089\n",
      "Feature 41: 38.390589\n",
      "Feature 42: 49.286482\n",
      "Feature 43: 1336.904371\n",
      "Feature 44: 47.082101\n",
      "Feature 45: 2.915538\n",
      "Feature 46: 6.628090\n",
      "Feature 47: 206.458201\n",
      "Feature 48: 352.627970\n",
      "Feature 49: 372.753213\n",
      "Feature 50: 7.092475\n",
      "Feature 51: 110.081533\n",
      "Feature 52: 0.015449\n",
      "Feature 53: 1663.608896\n",
      "Feature 54: 1406.801513\n",
      "Feature 55: 70.745687\n",
      "Feature 56: 100.606099\n",
      "Feature 57: 94.455016\n",
      "Feature 58: 487.859088\n",
      "Feature 59: 94.414410\n",
      "Feature 60: 27.981673\n",
      "Feature 61: 51.682738\n",
      "Feature 62: 109.843551\n",
      "Feature 63: 107.467409\n",
      "Feature 64: 77.309032\n",
      "Feature 65: 959.263172\n",
      "Feature 66: 97.385591\n",
      "Feature 67: 36.332525\n",
      "Feature 68: 7.893731\n"
     ]
    },
    {
     "data": {
      "image/png": "[encoded data removed]",
      "text/plain": [
       "<Figure size 432x288 with 1 Axes>"
      ]
     },
     "metadata": {
      "needs_background": "light"
     },
     "output_type": "display_data"
    }
   ],
   "source": [
    "# scores for the features\n",
    "for i in range(len(fs.scores_)):\n",
    "    print('Feature %d: %f' % (i, fs.scores_[i]))\n",
    "plt.bar([i for i in range(len(fs.scores_))], fs.scores_)\n",
    "plt.show()"
   ]
  },
  {
   "cell_type": "markdown",
   "id": "d6e9529c",
   "metadata": {},
   "source": [
    "# Use RFE to determine 15 features\n"
   ]
  },
  {
   "cell_type": "code",
   "execution_count": 79,
   "id": "8d8fd73f",
   "metadata": {},
   "outputs": [
    {
     "data": {
      "text/plain": [
       "[('Premature_death', False, 20),\n",
       " ('Percentage_Fair_or_Poor_Health', True, 1),\n",
       " ('Average_Number_of_Physically_Unhealthy_Days', False, 2),\n",
       " ('Average_Number_of_Mentally_Unhealthy_Days', True, 1),\n",
       " ('Percentage_Low_birthweight', True, 1),\n",
       " ('Percentage_Smokers', True, 1),\n",
       " ('Percentage_Adults_with_Obesity', True, 1),\n",
       " ('Food_Environment_Index', True, 1),\n",
       " ('Percentage_Physically_Inactive', False, 7),\n",
       " ('Percentage_With_Access_to_Exercise_Opportunities', False, 18),\n",
       " ('Alcohol_impaired_driving_deaths', False, 46),\n",
       " ('Sexually_transmitted_infections_Chlamydia_Cases', False, 41),\n",
       " ('Teen_Birth_Rate', True, 1),\n",
       " ('Uninsured', False, 30),\n",
       " ('Primary_care_physicians', False, 21),\n",
       " ('Dentists', False, 23),\n",
       " ('Mental_health_providers', False, 24),\n",
       " ('Preventable_Hospitalization_Rate', False, 32),\n",
       " ('Percentage_With_Annual_Mammogram', True, 1),\n",
       " ('Percentage_Vaccinated', False, 17),\n",
       " ('High_school_completion', False, 45),\n",
       " ('Some_college', False, 42),\n",
       " ('Unemployment', False, 49),\n",
       " ('Percentage_Children_in_Poverty', False, 6),\n",
       " ('Income_inequality_80th_Percentile_Income', False, 55),\n",
       " ('Children_in_single-parent_households', False, 47),\n",
       " ('Social_associations', False, 28),\n",
       " ('Annual_Average_Violent_Crimes', False, 44),\n",
       " ('Injury_deaths', False, 36),\n",
       " ('Air_pollution_particulate_matter_Average_Daily_PM', False, 10),\n",
       " ('Percentage_Severe_Housing_Problems', False, 12),\n",
       " ('Percentage_Drive_Alone_to_Work', False, 3),\n",
       " ('Workers_Drive_Alone_to_Work', False, 48),\n",
       " ('Deaths_Premature_age_adjusted_mortality', False, 19),\n",
       " ('Child_mortality_deaths', False, 16),\n",
       " ('Infant_mortality_deaths', False, 22),\n",
       " ('percentage_Frequent_Physical_Distress', False, 4),\n",
       " ('percentage_Adults_with_Diabetes', True, 1),\n",
       " ('HIV_Cases', False, 34),\n",
       " ('Food_insecurity', False, 38),\n",
       " ('Limited_access_to_healthy_foods', False, 50),\n",
       " ('Drug_overdose_deaths', False, 26),\n",
       " ('Motor_vehicle_crash_deaths', False, 27),\n",
       " ('percentage_Insufficient_Sleep', False, 5),\n",
       " ('Uninsured_adults', False, 29),\n",
       " ('Other_Primary_Care_Provider_Rate', False, 15),\n",
       " ('High_School_Graduation_Rate', False, 25),\n",
       " ('percentage_Disconnected_Youth', False, 13),\n",
       " ('Average_Grade_Performance_Reading_scores', True, 1),\n",
       " ('Average_Grade_Performance_Math_scores', True, 1),\n",
       " ('Segregation_index_School_segregation', True, 1),\n",
       " ('Spending_perpupil_School_funding_adequacy', False, 51),\n",
       " ('Gender_pay_gap', True, 1),\n",
       " ('Median_household_income', False, 37),\n",
       " ('percentage_Enrolled_in_Free_or_Reduced_Lunch_Children_eligible_', False, 9),\n",
       " ('Segregation_index_Residential_segregation_Black_and_white', False, 31),\n",
       " ('percentage_household_income_required_for_childcare_expenses_Chi',\n",
       "  False,\n",
       "  11),\n",
       " ('Childcare_centers', False, 33),\n",
       " ('Homicide_Rate', True, 1),\n",
       " ('Suicides', False, 39),\n",
       " ('Firearm_fatalities', False, 43),\n",
       " ('Juvenile_Arrest_Rate', False, 14),\n",
       " ('Traffic_Volume', False, 35),\n",
       " ('Homeowners', False, 54),\n",
       " ('Severe_housing_cost_burden', False, 40),\n",
       " ('percentage_Broadband_Access', False, 8),\n",
       " ('Population', False, 52),\n",
       " ('percentage_female', True, 1),\n",
       " ('rural_residents', False, 53)]"
      ]
     },
     "execution_count": 79,
     "metadata": {},
     "output_type": "execute_result"
    }
   ],
   "source": [
    "# instantiate and train model\n",
    "lm2 = LinearRegression()\n",
    "lm2.fit(X_train, y_train)\n",
    "# instantiate the rfe\n",
    "rfe = RFE(lm2, n_features_to_select=15)\n",
    "rfe = rfe.fit(X_train, y_train)\n",
    "list(zip(X_train.columns, rfe.support_, rfe.ranking_))"
   ]
  },
  {
   "cell_type": "code",
   "execution_count": 83,
   "id": "455ebe0f",
   "metadata": {},
   "outputs": [
    {
     "data": {
      "text/plain": [
       "['Percentage_Fair_or_Poor_Health',\n",
       " 'Average_Number_of_Mentally_Unhealthy_Days',\n",
       " 'Percentage_Low_birthweight',\n",
       " 'Percentage_Smokers',\n",
       " 'Percentage_Adults_with_Obesity',\n",
       " 'Food_Environment_Index',\n",
       " 'Teen_Birth_Rate',\n",
       " 'Percentage_With_Annual_Mammogram',\n",
       " 'percentage_Adults_with_Diabetes',\n",
       " 'Average_Grade_Performance_Reading_scores',\n",
       " 'Average_Grade_Performance_Math_scores',\n",
       " 'Segregation_index_School_segregation',\n",
       " 'Gender_pay_gap',\n",
       " 'Homicide_Rate',\n",
       " 'percentage_female']"
      ]
     },
     "execution_count": 83,
     "metadata": {},
     "output_type": "execute_result"
    }
   ],
   "source": [
    "# new cols from 15 features selected above\n",
    "new_cols = []\n",
    "for i in list(zip(X_train.columns, rfe.support_, rfe.ranking_)):\n",
    "    if i[1] == True:\n",
    "        new_cols.append(i[0])\n",
    "new_cols"
   ]
  },
  {
   "cell_type": "code",
   "execution_count": 91,
   "id": "b82c3c39",
   "metadata": {},
   "outputs": [],
   "source": [
    "#create new df from suggested features\n",
    "life_df3 = health_measures_df[new_cols]"
   ]
  },
  {
   "cell_type": "code",
   "execution_count": 92,
   "id": "74c66003",
   "metadata": {},
   "outputs": [],
   "source": [
    "#define features and target, split into training and testing data, scale features\n",
    "X = life_df3\n",
    "y = health_measures_df['Life_expectancy']\n",
    "X_train, X_test, y_train, y_test = train_test_split(X, y)\n",
    "scaler = StandardScaler()\n",
    "X_scaler =scaler.fit(X_train)\n",
    "X_train_scaled = X_scaler.transform(X_train)\n",
    "X_test_scaled = X_scaler.transform(X_test)"
   ]
  },
  {
   "cell_type": "code",
   "execution_count": 95,
   "id": "a193841e",
   "metadata": {},
   "outputs": [],
   "source": [
    "# instantiate the model\n",
    "lm3 = LinearRegression()\n",
    "#fit the model\n",
    "lm3.fit(X_train_scaled, y_train)\n",
    "# make predictions\n",
    "predictions = lm3.predict(X_test_scaled)\n",
    "# make training predictions\n",
    "y_train_predict = lm3.predict(X_train_scaled)"
   ]
  },
  {
   "cell_type": "code",
   "execution_count": 96,
   "id": "f10cce58",
   "metadata": {},
   "outputs": [
    {
     "name": "stdout",
     "output_type": "stream",
     "text": [
      "The train r2 score was 0.693 and the test r2 score was 0.658. Model coefficients:[-0.83153856 -0.41005641  0.00118275 -0.83466331 -0.24550492  0.10254589\n",
      "  0.07235798 -0.45123405  0.24183408 -0.29053836] and intercept:76.90964451190658. MAE:1.2879846907581483\n"
     ]
    }
   ],
   "source": [
    "# print the mean absolute error and r2_score\n",
    "r2_test = round(r2_score(y_true = y_test, y_pred = predictions),3)\n",
    "r2_train = round(r2_score(y_true = y_train, y_pred = y_train_predict), 3)\n",
    "coefficients = lm.coef_\n",
    "intercept = lm.intercept_\n",
    "mae = mean_absolute_error(y_test, predictions)\n",
    "print(f'The train r2 score was {r2_train} and the test r2 score was {r2_test}. Model coefficients:{coefficients} and intercept:{intercept}. MAE:{mae}')"
   ]
  },
  {
   "cell_type": "code",
   "execution_count": 99,
   "id": "a4c1f9c1",
   "metadata": {},
   "outputs": [
    {
     "data": {
      "image/png": "[encoded data removed]",
      "text/plain": [
       "<Figure size 432x288 with 1 Axes>"
      ]
     },
     "metadata": {
      "needs_background": "light"
     },
     "output_type": "display_data"
    }
   ],
   "source": [
    "#create a df of predictions and actual values and plot them\n",
    "predictions_df = pd.DataFrame({'Predictions': predictions, 'Actual': y_test})\n",
    "x=predictions_df['Predictions']\n",
    "y=predictions_df['Actual']\n",
    "plt.scatter(x=x, y=y)\n",
    "plt.xlabel('Predictions')\n",
    "plt.ylabel('Actual')\n",
    "plt.title('Actual vs Predictions')\n",
    "plt.show()"
   ]
  },
  {
   "cell_type": "code",
   "execution_count": null,
   "id": "dc74c399",
   "metadata": {},
   "outputs": [],
   "source": []
  },
  {
   "cell_type": "code",
   "execution_count": null,
   "id": "d4bf65b5",
   "metadata": {},
   "outputs": [],
   "source": []
  }
 ],
 "metadata": {
  "kernelspec": {
   "display_name": "mlenv",
   "language": "python",
   "name": "mlenv"
  },
  "language_info": {
   "codemirror_mode": {
    "name": "ipython",
    "version": 3
   },
   "file_extension": ".py",
   "mimetype": "text/x-python",
   "name": "python",
   "nbconvert_exporter": "python",
   "pygments_lexer": "ipython3",
   "version": "3.7.11"
  }
 },
 "nbformat": 4,
 "nbformat_minor": 5
}
